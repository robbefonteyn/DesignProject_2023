{
 "cells": [
  {
   "cell_type": "code",
   "execution_count": 1,
   "id": "72284936",
   "metadata": {},
   "outputs": [],
   "source": [
    "import numpy as np\n",
    "import scanpy as sp\n",
    "import pandas as pd\n",
    "import pickle\n",
    "import matplotlib\n",
    "import matplotlib.pyplot as plt\n",
    "plt.style.use('ggplot')\n",
    "%matplotlib inline\n",
    "\n",
    "import sklearn as sk\n",
    "from sklearn import svm\n",
    "from sklearn.model_selection import StratifiedGroupKFold, GridSearchCV\n",
    "\n",
    "seed = 2023 # DO NOT CHANGE!"
   ]
  },
  {
   "cell_type": "code",
   "execution_count": 2,
   "id": "733e81c4",
   "metadata": {},
   "outputs": [
    {
     "name": "stdout",
     "output_type": "stream",
     "text": [
      "sklearn version: 1.0.1\n",
      "numpy version: 1.21.3\n",
      "pandas version: 1.3.4\n",
      "matplotlib version: 3.4.3\n",
      "scanpy version: 1.9.1\n"
     ]
    }
   ],
   "source": [
    "print(f\"sklearn version: {sk.__version__}\")\n",
    "print(f\"numpy version: {np.__version__}\")\n",
    "print(f\"pandas version: {pd.__version__}\")\n",
    "print(f\"matplotlib version: {matplotlib.__version__}\")\n",
    "print(f\"scanpy version: {sp.__version__}\")"
   ]
  },
  {
   "cell_type": "markdown",
   "id": "dd2c2297",
   "metadata": {},
   "source": [
    "# Load Data / Train-Test split\n",
    "See model training notebooks for more information"
   ]
  },
  {
   "cell_type": "code",
   "execution_count": 3,
   "id": "45e47c57",
   "metadata": {},
   "outputs": [
    {
     "data": {
      "text/plain": [
       "array(['L2/3 IT', 'L4', 'Astro', ..., 'Lamp5', 'L5 IT', 'Macrophage'],\n",
       "      dtype=object)"
      ]
     },
     "execution_count": 3,
     "metadata": {},
     "output_type": "execute_result"
    }
   ],
   "source": [
    "data_folder = \"../models/MB/\"\n",
    "\n",
    "with open(f\"{data_folder}MB_LogReg_labels.pkl\", 'rb') as f:\n",
    "    Y_test = np.array(pickle.load(f)['Y_test'])\n",
    "    \n",
    "Y_test"
   ]
  },
  {
   "cell_type": "markdown",
   "id": "dc7cdbb1",
   "metadata": {},
   "source": [
    "# Load models / make predictions"
   ]
  },
  {
   "cell_type": "code",
   "execution_count": 4,
   "id": "dca287b9",
   "metadata": {},
   "outputs": [
    {
     "data": {
      "text/plain": [
       "['MB_LogReg_labels', 'MB_RF_labels', 'MB_SVM_labels']"
      ]
     },
     "execution_count": 4,
     "metadata": {},
     "output_type": "execute_result"
    }
   ],
   "source": [
    "model_names = [\"MB_LogReg_labels\", \"MB_RF_labels\", \"MB_SVM_labels\"]\n",
    "model_names_sanitizer_ = {\n",
    "    'MB_LogReg_labels': \"LogReg\",\n",
    "    \"MB_RF_labels\": \"RF\",\n",
    "    \"MB_SVM_labels\": \"lSVM\",\n",
    "    \"MB_MLP_pred\": \"MLP\"\n",
    "}\n",
    "model_names_sanitizer = lambda x: np.vectorize(model_names_sanitizer_.get)(x)\n",
    "\n",
    "model_names"
   ]
  },
  {
   "cell_type": "code",
   "execution_count": 5,
   "id": "6960723a",
   "metadata": {},
   "outputs": [],
   "source": [
    "pred = {}\n",
    "for m in model_names:\n",
    "    with open(f\"{data_folder}{m}.pkl\", 'rb') as f:\n",
    "        pred[m] = pickle.load(f)['test_pred']"
   ]
  },
  {
   "cell_type": "code",
   "execution_count": 6,
   "id": "4c7e2ff3",
   "metadata": {},
   "outputs": [
    {
     "data": {
      "text/plain": [
       "{'MB_LogReg_labels': array(['L2/3 IT', 'L4', 'Astro', ..., 'Lamp5', 'L6 IT', 'Macrophage'],\n",
       "       dtype=object),\n",
       " 'MB_RF_labels': array(['L2/3 IT', 'L4', 'Astro', ..., 'Lamp5', 'L4', 'Macrophage'],\n",
       "       dtype=object),\n",
       " 'MB_SVM_labels': array(['L2/3 IT', 'L4', 'Astro', ..., 'Lamp5', 'L6 IT', 'Macrophage'],\n",
       "       dtype=object)}"
      ]
     },
     "execution_count": 6,
     "metadata": {},
     "output_type": "execute_result"
    }
   ],
   "source": [
    "pred"
   ]
  },
  {
   "cell_type": "code",
   "execution_count": 7,
   "id": "e0a8f222",
   "metadata": {},
   "outputs": [],
   "source": [
    "# ADD MLP predictions\n",
    "mlp_pred_file = \"MB_MLP_pred\"\n",
    "\n",
    "with open(f\"{data_folder}{mlp_pred_file}.pkl\", 'rb') as f:\n",
    "    tmp = pickle.load(f)\n",
    "    pred[mlp_pred_file] = tmp[\"test_pred_labels\"]\n",
    "    model_names.append(mlp_pred_file)"
   ]
  },
  {
   "cell_type": "code",
   "execution_count": 8,
   "id": "19d70e93",
   "metadata": {},
   "outputs": [
    {
     "data": {
      "text/plain": [
       "{'MB_LogReg_labels': array(['L2/3 IT', 'L4', 'Astro', ..., 'Lamp5', 'L6 IT', 'Macrophage'],\n",
       "       dtype=object),\n",
       " 'MB_RF_labels': array(['L2/3 IT', 'L4', 'Astro', ..., 'Lamp5', 'L4', 'Macrophage'],\n",
       "       dtype=object),\n",
       " 'MB_SVM_labels': array(['L2/3 IT', 'L4', 'Astro', ..., 'Lamp5', 'L6 IT', 'Macrophage'],\n",
       "       dtype=object),\n",
       " 'MB_MLP_pred': array(['L2/3 IT', 'L4', 'Astro', ..., 'Lamp5', 'L6 IT', 'Macrophage'],\n",
       "       dtype=object)}"
      ]
     },
     "execution_count": 8,
     "metadata": {},
     "output_type": "execute_result"
    }
   ],
   "source": [
    "pred"
   ]
  },
  {
   "cell_type": "code",
   "execution_count": 9,
   "id": "8be0e7bb",
   "metadata": {},
   "outputs": [
    {
     "data": {
      "text/plain": [
       "['MB_LogReg_labels', 'MB_RF_labels', 'MB_SVM_labels', 'MB_MLP_pred']"
      ]
     },
     "execution_count": 9,
     "metadata": {},
     "output_type": "execute_result"
    }
   ],
   "source": [
    "model_names"
   ]
  },
  {
   "cell_type": "markdown",
   "id": "e514786f",
   "metadata": {},
   "source": [
    "# Models analysis"
   ]
  },
  {
   "cell_type": "markdown",
   "id": "d056c16f",
   "metadata": {},
   "source": [
    "### Accuracy"
   ]
  },
  {
   "cell_type": "code",
   "execution_count": 20,
   "id": "674ee2f3",
   "metadata": {},
   "outputs": [
    {
     "data": {
      "text/plain": [
       "[['MB_LogReg_labels', 0.8717201166180758],\n",
       " ['MB_RF_labels', 0.6967930029154519],\n",
       " ['MB_SVM_labels', 0.8688046647230321],\n",
       " ['MB_MLP_pred', 0.8711370262390671]]"
      ]
     },
     "execution_count": 20,
     "metadata": {},
     "output_type": "execute_result"
    }
   ],
   "source": [
    "from sklearn.metrics import accuracy_score, balanced_accuracy_score\n",
    "[[n, accuracy_score(Y_test, p)] for n, p in pred.items()]"
   ]
  },
  {
   "cell_type": "code",
   "execution_count": 13,
   "id": "317d1886",
   "metadata": {},
   "outputs": [],
   "source": [
    "models_in_plot = model_names # plot every model except RF\n",
    "model_names_in_plot = model_names_sanitizer(models_in_plot)\n",
    "\n",
    "# Sample data\n",
    "p_test = [accuracy_score(Y_test, pred[m]) for m in models_in_plot]\n",
    "p_test_balanced = [balanced_accuracy_score(Y_test, pred[m]) for m in models_in_plot]"
   ]
  },
  {
   "cell_type": "code",
   "execution_count": 18,
   "id": "28b89cf3",
   "metadata": {
    "scrolled": true
   },
   "outputs": [
    {
     "data": {
      "image/png": "[encoded data removed]",
      "text/plain": [
       "<Figure size 432x288 with 1 Axes>"
      ]
     },
     "metadata": {
      "needs_background": "light"
     },
     "output_type": "display_data"
    }
   ],
   "source": [
    "# Metrics to plot\n",
    "x, y = p_test_balanced, p_test\n",
    "x_label, y_label = \"Balanced Accuracy\", \"Accuracy\"\n",
    "\n",
    "# Create scatter plot\n",
    "plt.scatter(x, y)\n",
    "\n",
    "# Add labels next to points\n",
    "for label, x_, y_ in zip(model_names_in_plot, x, y):\n",
    "    vert_alignment = (-10 if label == \"MLP\" else 10, -12 if label == \"lSVM\" else 5)\n",
    "    plt.annotate(label, (x_, y_), textcoords=\"offset points\", xytext=vert_alignment, ha='center')\n",
    "\n",
    "# Add title and labels\n",
    "plt.title('Models Accuracy Comparison (Normal VS Balanced)')\n",
    "plt.xlabel(x_label)\n",
    "plt.ylabel(y_label)\n",
    "\n",
    "# Show plot\n",
    "plt.show()"
   ]
  },
  {
   "cell_type": "code",
   "execution_count": null,
   "id": "9df56355",
   "metadata": {},
   "outputs": [],
   "source": []
  },
  {
   "cell_type": "code",
   "execution_count": null,
   "id": "f2243d91",
   "metadata": {},
   "outputs": [],
   "source": []
  },
  {
   "cell_type": "markdown",
   "id": "1e60788e",
   "metadata": {},
   "source": [
    "### Precision / Recall / F1 scores"
   ]
  },
  {
   "cell_type": "code",
   "execution_count": 23,
   "id": "1543881c",
   "metadata": {},
   "outputs": [
    {
     "name": "stdout",
     "output_type": "stream",
     "text": [
      "LogReg\n",
      "              precision    recall  f1-score   support\n",
      "\n",
      "       Astro       0.97      0.99      0.98       156\n",
      "        Endo       1.00      1.00      1.00        17\n",
      "     L2/3 IT       0.86      0.98      0.91       271\n",
      "          L4       0.87      0.90      0.88       217\n",
      "       L5 IT       0.81      0.70      0.75        82\n",
      "       L5 PT       0.92      0.98      0.95        57\n",
      "       L6 CT       0.95      0.99      0.97       162\n",
      "       L6 IT       0.84      0.72      0.77       144\n",
      "         L6b       0.94      0.83      0.88        18\n",
      "       Lamp5       0.94      0.58      0.71        52\n",
      "  Macrophage       0.94      0.99      0.96        82\n",
      "       Meis2       0.00      0.00      0.00        10\n",
      "          NP       1.00      0.81      0.90        32\n",
      "       Oligo       0.78      1.00      0.87       184\n",
      "        Peri       0.43      0.75      0.55         4\n",
      "       Pvalb       0.98      0.96      0.97        56\n",
      "         SMC       0.00      0.00      0.00         2\n",
      "        Sncg       0.00      0.00      0.00         2\n",
      "         Sst       0.94      0.46      0.61        68\n",
      "        VLMC       0.67      0.36      0.47        11\n",
      "         Vip       0.70      0.66      0.68        88\n",
      "\n",
      "    accuracy                           0.87      1715\n",
      "   macro avg       0.74      0.70      0.71      1715\n",
      "weighted avg       0.87      0.87      0.86      1715\n",
      "\n",
      "RF\n",
      "              precision    recall  f1-score   support\n",
      "\n",
      "       Astro       0.88      0.99      0.93       156\n",
      "        Endo       1.00      0.82      0.90        17\n",
      "     L2/3 IT       0.57      0.96      0.71       271\n",
      "          L4       0.63      0.88      0.73       217\n",
      "       L5 IT       0.75      0.07      0.13        82\n",
      "       L5 PT       1.00      0.11      0.19        57\n",
      "       L6 CT       0.77      0.98      0.86       162\n",
      "       L6 IT       0.60      0.19      0.29       144\n",
      "         L6b       0.00      0.00      0.00        18\n",
      "       Lamp5       1.00      0.15      0.27        52\n",
      "  Macrophage       0.95      0.99      0.97        82\n",
      "       Meis2       0.00      0.00      0.00        10\n",
      "          NP       1.00      0.03      0.06        32\n",
      "       Oligo       0.72      1.00      0.84       184\n",
      "        Peri       0.00      0.00      0.00         4\n",
      "       Pvalb       0.89      0.91      0.90        56\n",
      "         SMC       0.00      0.00      0.00         2\n",
      "        Sncg       0.00      0.00      0.00         2\n",
      "         Sst       0.73      0.24      0.36        68\n",
      "        VLMC       0.00      0.00      0.00        11\n",
      "         Vip       0.55      0.40      0.46        88\n",
      "\n",
      "    accuracy                           0.70      1715\n",
      "   macro avg       0.57      0.42      0.41      1715\n",
      "weighted avg       0.71      0.70      0.63      1715\n",
      "\n",
      "lSVM\n",
      "              precision    recall  f1-score   support\n",
      "\n",
      "       Astro       0.96      1.00      0.98       156\n",
      "        Endo       1.00      1.00      1.00        17\n",
      "     L2/3 IT       0.87      0.97      0.92       271\n",
      "          L4       0.85      0.91      0.88       217\n",
      "       L5 IT       0.79      0.70      0.74        82\n",
      "       L5 PT       0.93      0.96      0.95        57\n",
      "       L6 CT       0.94      1.00      0.97       162\n",
      "       L6 IT       0.82      0.70      0.76       144\n",
      "         L6b       0.94      0.83      0.88        18\n",
      "       Lamp5       0.94      0.62      0.74        52\n",
      "  Macrophage       0.95      0.99      0.97        82\n",
      "       Meis2       0.00      0.00      0.00        10\n",
      "          NP       1.00      0.91      0.95        32\n",
      "       Oligo       0.77      0.99      0.87       184\n",
      "        Peri       0.33      0.25      0.29         4\n",
      "       Pvalb       0.98      0.98      0.98        56\n",
      "         SMC       0.17      0.50      0.25         2\n",
      "        Sncg       0.00      0.00      0.00         2\n",
      "         Sst       0.94      0.44      0.60        68\n",
      "        VLMC       0.50      0.18      0.27        11\n",
      "         Vip       0.74      0.59      0.66        88\n",
      "\n",
      "    accuracy                           0.87      1715\n",
      "   macro avg       0.73      0.69      0.70      1715\n",
      "weighted avg       0.86      0.87      0.86      1715\n",
      "\n",
      "MLP\n",
      "              precision    recall  f1-score   support\n",
      "\n",
      "       Astro       0.96      1.00      0.98       156\n",
      "        Endo       1.00      1.00      1.00        17\n",
      "     L2/3 IT       0.87      0.97      0.92       271\n",
      "          L4       0.86      0.92      0.89       217\n",
      "       L5 IT       0.79      0.71      0.75        82\n",
      "       L5 PT       0.93      0.96      0.95        57\n",
      "       L6 CT       0.95      0.99      0.97       162\n",
      "       L6 IT       0.84      0.68      0.75       144\n",
      "         L6b       0.94      0.83      0.88        18\n",
      "       Lamp5       0.97      0.58      0.72        52\n",
      "  Macrophage       0.95      1.00      0.98        82\n",
      "       Meis2       0.00      0.00      0.00        10\n",
      "          NP       0.96      0.78      0.86        32\n",
      "       Oligo       0.78      1.00      0.87       184\n",
      "        Peri       1.00      0.25      0.40         4\n",
      "       Pvalb       1.00      0.95      0.97        56\n",
      "         SMC       0.00      0.00      0.00         2\n",
      "        Sncg       0.00      0.00      0.00         2\n",
      "         Sst       0.70      0.49      0.57        68\n",
      "        VLMC       0.64      0.64      0.64        11\n",
      "         Vip       0.74      0.64      0.68        88\n",
      "\n",
      "    accuracy                           0.87      1715\n",
      "   macro avg       0.76      0.68      0.70      1715\n",
      "weighted avg       0.86      0.87      0.86      1715\n",
      "\n"
     ]
    },
    {
     "name": "stderr",
     "output_type": "stream",
     "text": [
      "/apps/gent/RHEL8/zen3x-ib/software/scikit-learn/1.0.1-foss-2021b/lib/python3.9/site-packages/sklearn/metrics/_classification.py:1308: UndefinedMetricWarning: Precision and F-score are ill-defined and being set to 0.0 in labels with no predicted samples. Use `zero_division` parameter to control this behavior.\n",
      "  _warn_prf(average, modifier, msg_start, len(result))\n",
      "/apps/gent/RHEL8/zen3x-ib/software/scikit-learn/1.0.1-foss-2021b/lib/python3.9/site-packages/sklearn/metrics/_classification.py:1308: UndefinedMetricWarning: Precision and F-score are ill-defined and being set to 0.0 in labels with no predicted samples. Use `zero_division` parameter to control this behavior.\n",
      "  _warn_prf(average, modifier, msg_start, len(result))\n",
      "/apps/gent/RHEL8/zen3x-ib/software/scikit-learn/1.0.1-foss-2021b/lib/python3.9/site-packages/sklearn/metrics/_classification.py:1308: UndefinedMetricWarning: Precision and F-score are ill-defined and being set to 0.0 in labels with no predicted samples. Use `zero_division` parameter to control this behavior.\n",
      "  _warn_prf(average, modifier, msg_start, len(result))\n",
      "/apps/gent/RHEL8/zen3x-ib/software/scikit-learn/1.0.1-foss-2021b/lib/python3.9/site-packages/sklearn/metrics/_classification.py:1308: UndefinedMetricWarning: Precision and F-score are ill-defined and being set to 0.0 in labels with no predicted samples. Use `zero_division` parameter to control this behavior.\n",
      "  _warn_prf(average, modifier, msg_start, len(result))\n",
      "/apps/gent/RHEL8/zen3x-ib/software/scikit-learn/1.0.1-foss-2021b/lib/python3.9/site-packages/sklearn/metrics/_classification.py:1308: UndefinedMetricWarning: Precision and F-score are ill-defined and being set to 0.0 in labels with no predicted samples. Use `zero_division` parameter to control this behavior.\n",
      "  _warn_prf(average, modifier, msg_start, len(result))\n",
      "/apps/gent/RHEL8/zen3x-ib/software/scikit-learn/1.0.1-foss-2021b/lib/python3.9/site-packages/sklearn/metrics/_classification.py:1308: UndefinedMetricWarning: Precision and F-score are ill-defined and being set to 0.0 in labels with no predicted samples. Use `zero_division` parameter to control this behavior.\n",
      "  _warn_prf(average, modifier, msg_start, len(result))\n",
      "/apps/gent/RHEL8/zen3x-ib/software/scikit-learn/1.0.1-foss-2021b/lib/python3.9/site-packages/sklearn/metrics/_classification.py:1308: UndefinedMetricWarning: Precision and F-score are ill-defined and being set to 0.0 in labels with no predicted samples. Use `zero_division` parameter to control this behavior.\n",
      "  _warn_prf(average, modifier, msg_start, len(result))\n",
      "/apps/gent/RHEL8/zen3x-ib/software/scikit-learn/1.0.1-foss-2021b/lib/python3.9/site-packages/sklearn/metrics/_classification.py:1308: UndefinedMetricWarning: Precision and F-score are ill-defined and being set to 0.0 in labels with no predicted samples. Use `zero_division` parameter to control this behavior.\n",
      "  _warn_prf(average, modifier, msg_start, len(result))\n",
      "/apps/gent/RHEL8/zen3x-ib/software/scikit-learn/1.0.1-foss-2021b/lib/python3.9/site-packages/sklearn/metrics/_classification.py:1308: UndefinedMetricWarning: Precision and F-score are ill-defined and being set to 0.0 in labels with no predicted samples. Use `zero_division` parameter to control this behavior.\n",
      "  _warn_prf(average, modifier, msg_start, len(result))\n",
      "/apps/gent/RHEL8/zen3x-ib/software/scikit-learn/1.0.1-foss-2021b/lib/python3.9/site-packages/sklearn/metrics/_classification.py:1308: UndefinedMetricWarning: Precision and F-score are ill-defined and being set to 0.0 in labels with no predicted samples. Use `zero_division` parameter to control this behavior.\n",
      "  _warn_prf(average, modifier, msg_start, len(result))\n",
      "/apps/gent/RHEL8/zen3x-ib/software/scikit-learn/1.0.1-foss-2021b/lib/python3.9/site-packages/sklearn/metrics/_classification.py:1308: UndefinedMetricWarning: Precision and F-score are ill-defined and being set to 0.0 in labels with no predicted samples. Use `zero_division` parameter to control this behavior.\n",
      "  _warn_prf(average, modifier, msg_start, len(result))\n",
      "/apps/gent/RHEL8/zen3x-ib/software/scikit-learn/1.0.1-foss-2021b/lib/python3.9/site-packages/sklearn/metrics/_classification.py:1308: UndefinedMetricWarning: Precision and F-score are ill-defined and being set to 0.0 in labels with no predicted samples. Use `zero_division` parameter to control this behavior.\n",
      "  _warn_prf(average, modifier, msg_start, len(result))\n"
     ]
    }
   ],
   "source": [
    "from sklearn.metrics import f1_score, classification_report\n",
    "\n",
    "for m in models_in_plot:\n",
    "    print(model_names_sanitizer(m))\n",
    "    print(classification_report(Y_test, pred[m]))\n",
    "#[[n, f1_score(Y_test, p)] for n, p in predictions_models_test.items()]"
   ]
  },
  {
   "cell_type": "code",
   "execution_count": null,
   "id": "692e8630",
   "metadata": {},
   "outputs": [],
   "source": []
  },
  {
   "cell_type": "code",
   "execution_count": null,
   "id": "2212f7e4",
   "metadata": {},
   "outputs": [],
   "source": []
  }
 ],
 "metadata": {
  "kernelspec": {
   "display_name": "Python 3 (ipykernel)",
   "language": "python",
   "name": "python3"
  },
  "language_info": {
   "codemirror_mode": {
    "name": "ipython",
    "version": 3
   },
   "file_extension": ".py",
   "mimetype": "text/x-python",
   "name": "python",
   "nbconvert_exporter": "python",
   "pygments_lexer": "ipython3",
   "version": "3.9.6"
  }
 },
 "nbformat": 4,
 "nbformat_minor": 5
}
