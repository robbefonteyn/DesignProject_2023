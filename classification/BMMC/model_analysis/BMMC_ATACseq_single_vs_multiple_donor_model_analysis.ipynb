{
 "cells": [
  {
   "cell_type": "code",
   "execution_count": 1,
   "id": "72284936",
   "metadata": {},
   "outputs": [],
   "source": [
    "import numpy as np\n",
    "import scanpy as sp\n",
    "import pandas as pd\n",
    "import pickle\n",
    "import matplotlib\n",
    "import matplotlib.pyplot as plt\n",
    "plt.style.use('ggplot')\n",
    "%matplotlib inline\n",
    "\n",
    "import sklearn as sk\n",
    "from sklearn import svm\n",
    "from sklearn.model_selection import StratifiedKFold, GridSearchCV\n",
    "\n",
    "seed = 2023 # DO NOT CHANGE!"
   ]
  },
  {
   "cell_type": "code",
   "execution_count": 2,
   "id": "733e81c4",
   "metadata": {},
   "outputs": [
    {
     "name": "stdout",
     "output_type": "stream",
     "text": [
      "sklearn version: 1.0.1\n",
      "numpy version: 1.21.3\n",
      "pandas version: 1.3.4\n",
      "matplotlib version: 3.4.3\n",
      "scanpy version: 1.9.1\n"
     ]
    }
   ],
   "source": [
    "print(f\"sklearn version: {sk.__version__}\")\n",
    "print(f\"numpy version: {np.__version__}\")\n",
    "print(f\"pandas version: {pd.__version__}\")\n",
    "print(f\"matplotlib version: {matplotlib.__version__}\")\n",
    "print(f\"scanpy version: {sp.__version__}\")"
   ]
  },
  {
   "cell_type": "markdown",
   "id": "dd2c2297",
   "metadata": {},
   "source": [
    "# Load Data"
   ]
  },
  {
   "cell_type": "code",
   "execution_count": 3,
   "id": "45e47c57",
   "metadata": {},
   "outputs": [],
   "source": [
    "BMMC = sp.read_h5ad(\"GSE194122_openproblems_neurips2021_multiome_BMMC_processed.h5ad\")"
   ]
  },
  {
   "cell_type": "code",
   "execution_count": 4,
   "id": "c8b3ddcc",
   "metadata": {},
   "outputs": [
    {
     "name": "stdout",
     "output_type": "stream",
     "text": [
      "The data has 69249 observations and 129921 features.\n"
     ]
    }
   ],
   "source": [
    "print(f\"The data has {BMMC.n_obs} observations and {BMMC.n_vars} features.\")"
   ]
  },
  {
   "cell_type": "code",
   "execution_count": 5,
   "id": "094f4f52",
   "metadata": {
    "scrolled": true
   },
   "outputs": [
    {
     "data": {
      "text/plain": [
       "AnnData object with n_obs × n_vars = 69249 × 129921\n",
       "    obs: 'GEX_pct_counts_mt', 'GEX_n_counts', 'GEX_n_genes', 'GEX_size_factors', 'GEX_phase', 'ATAC_nCount_peaks', 'ATAC_atac_fragments', 'ATAC_reads_in_peaks_frac', 'ATAC_blacklist_fraction', 'ATAC_nucleosome_signal', 'cell_type', 'batch', 'ATAC_pseudotime_order', 'GEX_pseudotime_order', 'Samplename', 'Site', 'DonorNumber', 'Modality', 'VendorLot', 'DonorID', 'DonorAge', 'DonorBMI', 'DonorBloodType', 'DonorRace', 'Ethnicity', 'DonorGender', 'QCMeds', 'DonorSmoker'\n",
       "    var: 'feature_types', 'gene_id'\n",
       "    uns: 'ATAC_gene_activity_var_names', 'dataset_id', 'genome', 'organism'\n",
       "    obsm: 'ATAC_gene_activity', 'ATAC_lsi_full', 'ATAC_lsi_red', 'ATAC_umap', 'GEX_X_pca', 'GEX_X_umap'\n",
       "    layers: 'counts'"
      ]
     },
     "execution_count": 5,
     "metadata": {},
     "output_type": "execute_result"
    }
   ],
   "source": [
    "BMMC"
   ]
  },
  {
   "cell_type": "markdown",
   "id": "67ba6946",
   "metadata": {},
   "source": [
    "# Train/Test Split"
   ]
  },
  {
   "cell_type": "markdown",
   "id": "86ed8242",
   "metadata": {},
   "source": [
    "We choose one donor to train on (te reduce individual biological differences)"
   ]
  },
  {
   "cell_type": "code",
   "execution_count": 7,
   "id": "de3b303f",
   "metadata": {},
   "outputs": [
    {
     "data": {
      "text/html": [
       "<div>\n",
       "<style scoped>\n",
       "    .dataframe tbody tr th:only-of-type {\n",
       "        vertical-align: middle;\n",
       "    }\n",
       "\n",
       "    .dataframe tbody tr th {\n",
       "        vertical-align: top;\n",
       "    }\n",
       "\n",
       "    .dataframe thead th {\n",
       "        text-align: right;\n",
       "    }\n",
       "</style>\n",
       "<table border=\"1\" class=\"dataframe\">\n",
       "  <thead>\n",
       "    <tr style=\"text-align: right;\">\n",
       "      <th></th>\n",
       "      <th>Site</th>\n",
       "      <th>DonorAge</th>\n",
       "      <th>DonorBMI</th>\n",
       "      <th>DonorBloodType</th>\n",
       "      <th>DonorRace</th>\n",
       "      <th>Ethnicity</th>\n",
       "      <th>DonorGender</th>\n",
       "      <th>QCMeds</th>\n",
       "      <th>DonorSmoker</th>\n",
       "    </tr>\n",
       "    <tr>\n",
       "      <th>DonorID</th>\n",
       "      <th></th>\n",
       "      <th></th>\n",
       "      <th></th>\n",
       "      <th></th>\n",
       "      <th></th>\n",
       "      <th></th>\n",
       "      <th></th>\n",
       "      <th></th>\n",
       "      <th></th>\n",
       "    </tr>\n",
       "  </thead>\n",
       "  <tbody>\n",
       "    <tr>\n",
       "      <th>10886</th>\n",
       "      <td>site1</td>\n",
       "      <td>35</td>\n",
       "      <td>28.6</td>\n",
       "      <td>B+</td>\n",
       "      <td>Asian</td>\n",
       "      <td>NOT HISPANIC OR LATINO</td>\n",
       "      <td>Female</td>\n",
       "      <td>True</td>\n",
       "      <td>Nonsmoker</td>\n",
       "    </tr>\n",
       "    <tr>\n",
       "      <th>11466</th>\n",
       "      <td>site3</td>\n",
       "      <td>22</td>\n",
       "      <td>31.5</td>\n",
       "      <td>A+</td>\n",
       "      <td>Asian</td>\n",
       "      <td>NOT HISPANIC OR LATINO</td>\n",
       "      <td>Female</td>\n",
       "      <td>True</td>\n",
       "      <td>Nonsmoker</td>\n",
       "    </tr>\n",
       "    <tr>\n",
       "      <th>12710</th>\n",
       "      <td>site2</td>\n",
       "      <td>27</td>\n",
       "      <td>32.1</td>\n",
       "      <td>O+</td>\n",
       "      <td>White</td>\n",
       "      <td>NOT HISPANIC OR LATINO</td>\n",
       "      <td>Male</td>\n",
       "      <td>False</td>\n",
       "      <td>Nonsmoker</td>\n",
       "    </tr>\n",
       "    <tr>\n",
       "      <th>13272</th>\n",
       "      <td>site4</td>\n",
       "      <td>35</td>\n",
       "      <td>31.0</td>\n",
       "      <td>O+</td>\n",
       "      <td>Other Race</td>\n",
       "      <td>HISPANIC OR LATINO</td>\n",
       "      <td>Male</td>\n",
       "      <td>False</td>\n",
       "      <td>Nonsmoker</td>\n",
       "    </tr>\n",
       "    <tr>\n",
       "      <th>15078</th>\n",
       "      <td>site1</td>\n",
       "      <td>34</td>\n",
       "      <td>24.8</td>\n",
       "      <td>B-</td>\n",
       "      <td>White</td>\n",
       "      <td>HISPANIC OR LATINO</td>\n",
       "      <td>Male</td>\n",
       "      <td>False</td>\n",
       "      <td>Nonsmoker</td>\n",
       "    </tr>\n",
       "    <tr>\n",
       "      <th>16710</th>\n",
       "      <td>site2</td>\n",
       "      <td>40</td>\n",
       "      <td>27.8</td>\n",
       "      <td>O+</td>\n",
       "      <td>White</td>\n",
       "      <td>HISPANIC OR LATINO</td>\n",
       "      <td>Female</td>\n",
       "      <td>False</td>\n",
       "      <td>Smoker</td>\n",
       "    </tr>\n",
       "    <tr>\n",
       "      <th>18303</th>\n",
       "      <td>site1</td>\n",
       "      <td>33</td>\n",
       "      <td>24.0</td>\n",
       "      <td>O+</td>\n",
       "      <td>Asian</td>\n",
       "      <td>NOT HISPANIC OR LATINO</td>\n",
       "      <td>Male</td>\n",
       "      <td>False</td>\n",
       "      <td>Smoker</td>\n",
       "    </tr>\n",
       "    <tr>\n",
       "      <th>19593</th>\n",
       "      <td>site4</td>\n",
       "      <td>31</td>\n",
       "      <td>32.6</td>\n",
       "      <td>A+</td>\n",
       "      <td>Black or African American</td>\n",
       "      <td>NOT HISPANIC OR LATINO</td>\n",
       "      <td>Male</td>\n",
       "      <td>False</td>\n",
       "      <td>Nonsmoker</td>\n",
       "    </tr>\n",
       "    <tr>\n",
       "      <th>28045</th>\n",
       "      <td>site3</td>\n",
       "      <td>36</td>\n",
       "      <td>23.8</td>\n",
       "      <td>A+</td>\n",
       "      <td>Other Race</td>\n",
       "      <td>HISPANIC OR LATINO</td>\n",
       "      <td>Female</td>\n",
       "      <td>False</td>\n",
       "      <td>Nonsmoker</td>\n",
       "    </tr>\n",
       "    <tr>\n",
       "      <th>28483</th>\n",
       "      <td>site3</td>\n",
       "      <td>21</td>\n",
       "      <td>26.7</td>\n",
       "      <td>O+</td>\n",
       "      <td>Other Race</td>\n",
       "      <td>HISPANIC OR LATINO</td>\n",
       "      <td>Female</td>\n",
       "      <td>False</td>\n",
       "      <td>Smoker</td>\n",
       "    </tr>\n",
       "  </tbody>\n",
       "</table>\n",
       "</div>"
      ],
      "text/plain": [
       "          Site  DonorAge  DonorBMI DonorBloodType                  DonorRace  \\\n",
       "DonorID                                                                        \n",
       "10886    site1        35      28.6             B+                      Asian   \n",
       "11466    site3        22      31.5             A+                      Asian   \n",
       "12710    site2        27      32.1             O+                      White   \n",
       "13272    site4        35      31.0             O+                 Other Race   \n",
       "15078    site1        34      24.8             B-                      White   \n",
       "16710    site2        40      27.8             O+                      White   \n",
       "18303    site1        33      24.0             O+                      Asian   \n",
       "19593    site4        31      32.6             A+  Black or African American   \n",
       "28045    site3        36      23.8             A+                 Other Race   \n",
       "28483    site3        21      26.7             O+                 Other Race   \n",
       "\n",
       "                      Ethnicity DonorGender QCMeds DonorSmoker  \n",
       "DonorID                                                         \n",
       "10886    NOT HISPANIC OR LATINO      Female   True   Nonsmoker  \n",
       "11466    NOT HISPANIC OR LATINO      Female   True   Nonsmoker  \n",
       "12710    NOT HISPANIC OR LATINO        Male  False   Nonsmoker  \n",
       "13272        HISPANIC OR LATINO        Male  False   Nonsmoker  \n",
       "15078        HISPANIC OR LATINO        Male  False   Nonsmoker  \n",
       "16710        HISPANIC OR LATINO      Female  False      Smoker  \n",
       "18303    NOT HISPANIC OR LATINO        Male  False      Smoker  \n",
       "19593    NOT HISPANIC OR LATINO        Male  False   Nonsmoker  \n",
       "28045        HISPANIC OR LATINO      Female  False   Nonsmoker  \n",
       "28483        HISPANIC OR LATINO      Female  False      Smoker  "
      ]
     },
     "execution_count": 7,
     "metadata": {},
     "output_type": "execute_result"
    }
   ],
   "source": [
    "BMMC.obs.drop_duplicates(subset=[\"DonorID\"], keep='first').reset_index()[[\"Site\",\"DonorID\",\"DonorAge\",\"DonorBMI\",\"DonorBloodType\",\"DonorRace\",\"Ethnicity\",\"DonorGender\",\"QCMeds\",\"DonorSmoker\"]].set_index('DonorID').sort_values(by=['DonorID'])"
   ]
  },
  {
   "cell_type": "code",
   "execution_count": 8,
   "id": "36bb8a96",
   "metadata": {},
   "outputs": [
    {
     "name": "stdout",
     "output_type": "stream",
     "text": [
      "69249 samples of 10 donors\n"
     ]
    },
    {
     "data": {
      "image/png": "[encoded data removed]",
      "text/plain": [
       "<Figure size 432x288 with 1 Axes>"
      ]
     },
     "metadata": {
      "needs_background": "light"
     },
     "output_type": "display_data"
    }
   ],
   "source": [
    "donors, donor_sample_count = np.unique(BMMC.obs['DonorID'], return_counts=True)\n",
    "\n",
    "fig = plt.figure()\n",
    "ax = fig.add_axes([0,0,1,1])\n",
    "print(f\"{np.sum(donor_sample_count)} samples of {len(donors)} donors\")\n",
    "ax.bar(list(map(str, donors)), donor_sample_count)\n",
    "plt.xticks(rotation=30, ha='right')\n",
    "plt.xlabel(\"Donor id\")\n",
    "plt.ylabel(\"#samples\")\n",
    "plt.show()"
   ]
  },
  {
   "cell_type": "markdown",
   "id": "0025d5c0",
   "metadata": {},
   "source": [
    "## Single Donor"
   ]
  },
  {
   "cell_type": "code",
   "execution_count": 9,
   "id": "2ee5039d",
   "metadata": {},
   "outputs": [
    {
     "name": "stdout",
     "output_type": "stream",
     "text": [
      "18467 samples\n"
     ]
    }
   ],
   "source": [
    "donor_idx = 15078 # most samples\n",
    "\n",
    "donor_filter = BMMC.obs['DonorID'] == donor_idx\n",
    "n_samples = np.sum(donor_filter)\n",
    "\n",
    "print(f\"{n_samples} samples\")"
   ]
  },
  {
   "cell_type": "code",
   "execution_count": 12,
   "id": "526ce5f5",
   "metadata": {},
   "outputs": [],
   "source": [
    "# Random 70-30 split\n",
    "train_percentage = 0.7\n",
    "\n",
    "np.random.seed(seed)\n",
    "train_samples_idx = np.random.choice(n_samples, int(n_samples*train_percentage), replace=False)\n",
    "test_samples_idx = np.delete(np.arange(n_samples), train_samples_idx)\n",
    "\n",
    "X_test_single = BMMC.obsm['ATAC_gene_activity'][donor_filter][test_samples_idx]\n",
    "X_train_single = BMMC.obsm['ATAC_gene_activity'][donor_filter][train_samples_idx]\n",
    "\n",
    "Y_test_single = BMMC.obs['cell_type'][donor_filter][test_samples_idx]\n",
    "Y_train_single = BMMC.obs['cell_type'][donor_filter][train_samples_idx]"
   ]
  },
  {
   "cell_type": "code",
   "execution_count": 14,
   "id": "eb84e895",
   "metadata": {},
   "outputs": [
    {
     "data": {
      "text/plain": [
       "AGAGAAGCAATAGTCT-13-s4d1     Proerythroblast\n",
       "CCGCTTAGTTCCGGCT-1-s1d1     CD4+ T activated\n",
       "GTCCATTGTGGGTACT-13-s4d1    CD4+ T activated\n",
       "GCTGATCCACCTAATG-1-s1d1           CD14+ Mono\n",
       "CTTCAAGCAATAACGA-1-s1d1           CD14+ Mono\n",
       "                                  ...       \n",
       "TTCATTCAGCTTTGTT-13-s4d1         Plasma cell\n",
       "TTCACTGTCTAGCGAT-4-s2d1         Erythroblast\n",
       "ATTAGCTCATGAATCT-1-s1d1         Erythroblast\n",
       "ACTGAATGTATACTGG-13-s4d1                  NK\n",
       "TTTGTTGGTCCACAAA-4-s2d1        Naive CD20+ B\n",
       "Name: cell_type, Length: 12926, dtype: category\n",
       "Categories (22, object): ['B1 B', 'CD4+ T activated', 'CD4+ T naive', 'CD8+ T', ..., 'Proerythroblast', 'Transitional B', 'cDC2', 'pDC']"
      ]
     },
     "execution_count": 14,
     "metadata": {},
     "output_type": "execute_result"
    }
   ],
   "source": [
    "Y_train_single"
   ]
  },
  {
   "cell_type": "markdown",
   "id": "43178c57",
   "metadata": {},
   "source": [
    "## Multiple Donors"
   ]
  },
  {
   "cell_type": "code",
   "execution_count": 15,
   "id": "0874298c",
   "metadata": {},
   "outputs": [
    {
     "name": "stdout",
     "output_type": "stream",
     "text": [
      "69249 samples of 10 donors\n"
     ]
    },
    {
     "data": {
      "image/png": "[encoded data removed]",
      "text/plain": [
       "<Figure size 432x288 with 1 Axes>"
      ]
     },
     "metadata": {
      "needs_background": "light"
     },
     "output_type": "display_data"
    }
   ],
   "source": [
    "donors, donor_sample_count = np.unique(BMMC.obs['DonorID'], return_counts=True)\n",
    "color = ['red', 'red', 'red', 'red', 'red', 'red', 'red', 'green', 'green', 'green']\n",
    "fig = plt.figure()\n",
    "ax = fig.add_axes([0,0,1,1])\n",
    "print(f\"{np.sum(donor_sample_count)} samples of {len(donors)} donors\")\n",
    "ax.bar(list(map(str, donors)), donor_sample_count, color=color)\n",
    "plt.xticks(rotation=30, ha='right')\n",
    "plt.xlabel(\"Donor id\")\n",
    "plt.ylabel(\"#samples\")\n",
    "colors = {'train':'red', 'test':'green'}         \n",
    "labels = list(colors.keys())\n",
    "handles = [plt.Rectangle((0,0),1,1, color=colors[label]) for label in labels]\n",
    "plt.legend(handles, labels)\n",
    "plt.show()"
   ]
  },
  {
   "cell_type": "code",
   "execution_count": 16,
   "id": "33212226",
   "metadata": {},
   "outputs": [
    {
     "name": "stdout",
     "output_type": "stream",
     "text": [
      "50913 train samples\n",
      "18336 test samples\n",
      "73.52% of samples used for training\n"
     ]
    }
   ],
   "source": [
    "test_donors_idx = [19593, 28045, 28483]\n",
    "test_filter = np.isin(BMMC.obs['DonorID'], test_donors_idx)\n",
    "train_filter = np.invert(test_filter)\n",
    "\n",
    "n_train = np.sum(train_filter)\n",
    "n_test = np.sum(test_filter)\n",
    "print(f\"{n_train} train samples\\n{n_test} test samples\\n{n_train/(n_train+n_test)*100:.2f}% of samples used for training\")"
   ]
  },
  {
   "cell_type": "code",
   "execution_count": 17,
   "id": "8ae92c9b",
   "metadata": {},
   "outputs": [],
   "source": [
    "X_test_multiple = BMMC.obsm['ATAC_gene_activity'][test_filter]\n",
    "X_train_multiple = BMMC.obsm['ATAC_gene_activity'][train_filter]\n",
    "\n",
    "Y_test_multiple = BMMC.obs['cell_type'][test_filter]\n",
    "Y_train_multiple = BMMC.obs['cell_type'][train_filter]"
   ]
  },
  {
   "cell_type": "markdown",
   "id": "e81d3c41",
   "metadata": {},
   "source": [
    "# Model Analysis"
   ]
  },
  {
   "cell_type": "code",
   "execution_count": 26,
   "id": "26d3dd04",
   "metadata": {},
   "outputs": [],
   "source": [
    "# load models\n",
    "with open('../models/BMMC/lsvm_best_model_singledonor.pkl', 'rb') as f:\n",
    "    single_donor_model = pickle.load(f)\n",
    "    \n",
    "with open('../models/BMMC/lsvm_atac_model.pkl', 'rb') as f:\n",
    "    multiple_donor_model = pickle.load(f)"
   ]
  },
  {
   "cell_type": "code",
   "execution_count": 27,
   "id": "ce704249",
   "metadata": {},
   "outputs": [],
   "source": [
    "single_donor_test_predictions_single = single_donor_model.predict(X_test_single)\n",
    "single_donor_test_predictions_multiple = single_donor_model.predict(X_test_multiple)\n",
    "\n",
    "multiple_donor_test_predictions_single = multiple_donor_model.predict(X_test_single)\n",
    "multiple_donor_test_predictions_multiple = multiple_donor_model.predict(X_test_multiple)"
   ]
  },
  {
   "cell_type": "code",
   "execution_count": 30,
   "id": "303aa488",
   "metadata": {},
   "outputs": [
    {
     "name": "stdout",
     "output_type": "stream",
     "text": [
      "Single Donor Model:\n",
      "X_test_single accuracy: 0.8846778559826746\n",
      "X_test_multiple accuracy: 0.818880890052356\n",
      "\n",
      "Multiple Donor Model:\n",
      "X_test_single accuracy: 0.954340371774048\n",
      "X_test_multiple accuracy: 0.8331697207678883\n"
     ]
    }
   ],
   "source": [
    "from sklearn.metrics import accuracy_score\n",
    "\n",
    "print(\"Single Donor Model:\")\n",
    "print(f\"X_test_single accuracy: {accuracy_score(Y_test_single, single_donor_test_predictions_single)}\")\n",
    "print(f\"X_test_multiple accuracy: {accuracy_score(Y_test_multiple, single_donor_test_predictions_multiple)}\")\n",
    "print()\n",
    "print(\"Multiple Donor Model:\")\n",
    "print(f\"X_test_single accuracy: {accuracy_score(Y_test_single, multiple_donor_test_predictions_single)}\")\n",
    "print(f\"X_test_multiple accuracy: {accuracy_score(Y_test_multiple, multiple_donor_test_predictions_multiple)}\")"
   ]
  },
  {
   "cell_type": "code",
   "execution_count": 31,
   "id": "f0c1c58a",
   "metadata": {},
   "outputs": [
    {
     "name": "stdout",
     "output_type": "stream",
     "text": [
      "Single Donor Model:\n",
      "X_test_single balanced accuracy: 0.7713595311871705\n",
      "X_test_multiple balanced accuracy: 0.7213093299528225\n",
      "\n",
      "Multiple Donor Model:\n",
      "X_test_single balanced accuracy: 0.8979723628446711\n",
      "X_test_multiple balanced accuracy: 0.7281373214856022\n"
     ]
    }
   ],
   "source": [
    "from sklearn.metrics import balanced_accuracy_score\n",
    "\n",
    "print(\"Single Donor Model:\")\n",
    "print(f\"X_test_single balanced accuracy: {balanced_accuracy_score(Y_test_single, single_donor_test_predictions_single)}\")\n",
    "print(f\"X_test_multiple balanced accuracy: {balanced_accuracy_score(Y_test_multiple, single_donor_test_predictions_multiple)}\")\n",
    "print()\n",
    "print(\"Multiple Donor Model:\")\n",
    "print(f\"X_test_single balanced accuracy: {balanced_accuracy_score(Y_test_single, multiple_donor_test_predictions_single)}\")\n",
    "print(f\"X_test_multiple balanced accuracy: {balanced_accuracy_score(Y_test_multiple, multiple_donor_test_predictions_multiple)}\")"
   ]
  },
  {
   "cell_type": "code",
   "execution_count": null,
   "id": "7fcad045",
   "metadata": {},
   "outputs": [],
   "source": []
  }
 ],
 "metadata": {
  "kernelspec": {
   "display_name": "Python 3 (ipykernel)",
   "language": "python",
   "name": "python3"
  },
  "language_info": {
   "codemirror_mode": {
    "name": "ipython",
    "version": 3
   },
   "file_extension": ".py",
   "mimetype": "text/x-python",
   "name": "python",
   "nbconvert_exporter": "python",
   "pygments_lexer": "ipython3",
   "version": "3.9.6"
  }
 },
 "nbformat": 4,
 "nbformat_minor": 5
}
