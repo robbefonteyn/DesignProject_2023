{
 "cells": [
  {
   "cell_type": "code",
   "execution_count": 2,
   "id": "72284936",
   "metadata": {},
   "outputs": [],
   "source": [
    "import numpy as np\n",
    "import scanpy as sp\n",
    "import pandas as pd\n",
    "import pickle\n",
    "import matplotlib\n",
    "import matplotlib.pyplot as plt\n",
    "plt.style.use('ggplot')\n",
    "%matplotlib inline\n",
    "\n",
    "import sklearn as sk\n",
    "from sklearn import svm\n",
    "from sklearn.model_selection import StratifiedGroupKFold, GridSearchCV\n",
    "\n",
    "seed = 2023 # DO NOT CHANGE!"
   ]
  },
  {
   "cell_type": "code",
   "execution_count": 3,
   "id": "733e81c4",
   "metadata": {},
   "outputs": [
    {
     "name": "stdout",
     "output_type": "stream",
     "text": [
      "sklearn version: 1.0.1\n",
      "numpy version: 1.21.3\n",
      "pandas version: 1.3.4\n",
      "matplotlib version: 3.4.3\n",
      "scanpy version: 1.9.1\n"
     ]
    }
   ],
   "source": [
    "print(f\"sklearn version: {sk.__version__}\")\n",
    "print(f\"numpy version: {np.__version__}\")\n",
    "print(f\"pandas version: {pd.__version__}\")\n",
    "print(f\"matplotlib version: {matplotlib.__version__}\")\n",
    "print(f\"scanpy version: {sp.__version__}\")"
   ]
  },
  {
   "cell_type": "markdown",
   "id": "dd2c2297",
   "metadata": {},
   "source": [
    "# Load Data"
   ]
  },
  {
   "cell_type": "code",
   "execution_count": 4,
   "id": "45e47c57",
   "metadata": {},
   "outputs": [],
   "source": [
    "BMMC = sp.read_h5ad(\"GSE194122_openproblems_neurips2021_multiome_BMMC_processed.h5ad\")"
   ]
  },
  {
   "cell_type": "code",
   "execution_count": 5,
   "id": "09548251",
   "metadata": {},
   "outputs": [
    {
     "name": "stdout",
     "output_type": "stream",
     "text": [
      "The data has 69249 observations and 129921 features.\n"
     ]
    }
   ],
   "source": [
    "print(f\"The data has {BMMC.n_obs} observations and {BMMC.n_vars} features.\")"
   ]
  },
  {
   "cell_type": "code",
   "execution_count": 6,
   "id": "094f4f52",
   "metadata": {
    "scrolled": true
   },
   "outputs": [
    {
     "data": {
      "text/plain": [
       "AnnData object with n_obs × n_vars = 69249 × 129921\n",
       "    obs: 'GEX_pct_counts_mt', 'GEX_n_counts', 'GEX_n_genes', 'GEX_size_factors', 'GEX_phase', 'ATAC_nCount_peaks', 'ATAC_atac_fragments', 'ATAC_reads_in_peaks_frac', 'ATAC_blacklist_fraction', 'ATAC_nucleosome_signal', 'cell_type', 'batch', 'ATAC_pseudotime_order', 'GEX_pseudotime_order', 'Samplename', 'Site', 'DonorNumber', 'Modality', 'VendorLot', 'DonorID', 'DonorAge', 'DonorBMI', 'DonorBloodType', 'DonorRace', 'Ethnicity', 'DonorGender', 'QCMeds', 'DonorSmoker'\n",
       "    var: 'feature_types', 'gene_id'\n",
       "    uns: 'ATAC_gene_activity_var_names', 'dataset_id', 'genome', 'organism'\n",
       "    obsm: 'ATAC_gene_activity', 'ATAC_lsi_full', 'ATAC_lsi_red', 'ATAC_umap', 'GEX_X_pca', 'GEX_X_umap'\n",
       "    layers: 'counts'"
      ]
     },
     "execution_count": 6,
     "metadata": {},
     "output_type": "execute_result"
    }
   ],
   "source": [
    "BMMC"
   ]
  },
  {
   "cell_type": "markdown",
   "id": "67ba6946",
   "metadata": {},
   "source": [
    "# Train/Test Split"
   ]
  },
  {
   "cell_type": "markdown",
   "id": "86ed8242",
   "metadata": {},
   "source": [
    "We seperate a few donors for test set (best practise)"
   ]
  },
  {
   "cell_type": "code",
   "execution_count": 7,
   "id": "de3b303f",
   "metadata": {},
   "outputs": [
    {
     "data": {
      "text/html": [
       "<div>\n",
       "<style scoped>\n",
       "    .dataframe tbody tr th:only-of-type {\n",
       "        vertical-align: middle;\n",
       "    }\n",
       "\n",
       "    .dataframe tbody tr th {\n",
       "        vertical-align: top;\n",
       "    }\n",
       "\n",
       "    .dataframe thead th {\n",
       "        text-align: right;\n",
       "    }\n",
       "</style>\n",
       "<table border=\"1\" class=\"dataframe\">\n",
       "  <thead>\n",
       "    <tr style=\"text-align: right;\">\n",
       "      <th></th>\n",
       "      <th>Site</th>\n",
       "      <th>DonorAge</th>\n",
       "      <th>DonorBMI</th>\n",
       "      <th>DonorBloodType</th>\n",
       "      <th>DonorRace</th>\n",
       "      <th>Ethnicity</th>\n",
       "      <th>DonorGender</th>\n",
       "      <th>QCMeds</th>\n",
       "      <th>DonorSmoker</th>\n",
       "    </tr>\n",
       "    <tr>\n",
       "      <th>DonorID</th>\n",
       "      <th></th>\n",
       "      <th></th>\n",
       "      <th></th>\n",
       "      <th></th>\n",
       "      <th></th>\n",
       "      <th></th>\n",
       "      <th></th>\n",
       "      <th></th>\n",
       "      <th></th>\n",
       "    </tr>\n",
       "  </thead>\n",
       "  <tbody>\n",
       "    <tr>\n",
       "      <th>10886</th>\n",
       "      <td>site1</td>\n",
       "      <td>35</td>\n",
       "      <td>28.6</td>\n",
       "      <td>B+</td>\n",
       "      <td>Asian</td>\n",
       "      <td>NOT HISPANIC OR LATINO</td>\n",
       "      <td>Female</td>\n",
       "      <td>True</td>\n",
       "      <td>Nonsmoker</td>\n",
       "    </tr>\n",
       "    <tr>\n",
       "      <th>11466</th>\n",
       "      <td>site3</td>\n",
       "      <td>22</td>\n",
       "      <td>31.5</td>\n",
       "      <td>A+</td>\n",
       "      <td>Asian</td>\n",
       "      <td>NOT HISPANIC OR LATINO</td>\n",
       "      <td>Female</td>\n",
       "      <td>True</td>\n",
       "      <td>Nonsmoker</td>\n",
       "    </tr>\n",
       "    <tr>\n",
       "      <th>12710</th>\n",
       "      <td>site2</td>\n",
       "      <td>27</td>\n",
       "      <td>32.1</td>\n",
       "      <td>O+</td>\n",
       "      <td>White</td>\n",
       "      <td>NOT HISPANIC OR LATINO</td>\n",
       "      <td>Male</td>\n",
       "      <td>False</td>\n",
       "      <td>Nonsmoker</td>\n",
       "    </tr>\n",
       "    <tr>\n",
       "      <th>13272</th>\n",
       "      <td>site4</td>\n",
       "      <td>35</td>\n",
       "      <td>31.0</td>\n",
       "      <td>O+</td>\n",
       "      <td>Other Race</td>\n",
       "      <td>HISPANIC OR LATINO</td>\n",
       "      <td>Male</td>\n",
       "      <td>False</td>\n",
       "      <td>Nonsmoker</td>\n",
       "    </tr>\n",
       "    <tr>\n",
       "      <th>15078</th>\n",
       "      <td>site1</td>\n",
       "      <td>34</td>\n",
       "      <td>24.8</td>\n",
       "      <td>B-</td>\n",
       "      <td>White</td>\n",
       "      <td>HISPANIC OR LATINO</td>\n",
       "      <td>Male</td>\n",
       "      <td>False</td>\n",
       "      <td>Nonsmoker</td>\n",
       "    </tr>\n",
       "    <tr>\n",
       "      <th>16710</th>\n",
       "      <td>site2</td>\n",
       "      <td>40</td>\n",
       "      <td>27.8</td>\n",
       "      <td>O+</td>\n",
       "      <td>White</td>\n",
       "      <td>HISPANIC OR LATINO</td>\n",
       "      <td>Female</td>\n",
       "      <td>False</td>\n",
       "      <td>Smoker</td>\n",
       "    </tr>\n",
       "    <tr>\n",
       "      <th>18303</th>\n",
       "      <td>site1</td>\n",
       "      <td>33</td>\n",
       "      <td>24.0</td>\n",
       "      <td>O+</td>\n",
       "      <td>Asian</td>\n",
       "      <td>NOT HISPANIC OR LATINO</td>\n",
       "      <td>Male</td>\n",
       "      <td>False</td>\n",
       "      <td>Smoker</td>\n",
       "    </tr>\n",
       "    <tr>\n",
       "      <th>19593</th>\n",
       "      <td>site4</td>\n",
       "      <td>31</td>\n",
       "      <td>32.6</td>\n",
       "      <td>A+</td>\n",
       "      <td>Black or African American</td>\n",
       "      <td>NOT HISPANIC OR LATINO</td>\n",
       "      <td>Male</td>\n",
       "      <td>False</td>\n",
       "      <td>Nonsmoker</td>\n",
       "    </tr>\n",
       "    <tr>\n",
       "      <th>28045</th>\n",
       "      <td>site3</td>\n",
       "      <td>36</td>\n",
       "      <td>23.8</td>\n",
       "      <td>A+</td>\n",
       "      <td>Other Race</td>\n",
       "      <td>HISPANIC OR LATINO</td>\n",
       "      <td>Female</td>\n",
       "      <td>False</td>\n",
       "      <td>Nonsmoker</td>\n",
       "    </tr>\n",
       "    <tr>\n",
       "      <th>28483</th>\n",
       "      <td>site3</td>\n",
       "      <td>21</td>\n",
       "      <td>26.7</td>\n",
       "      <td>O+</td>\n",
       "      <td>Other Race</td>\n",
       "      <td>HISPANIC OR LATINO</td>\n",
       "      <td>Female</td>\n",
       "      <td>False</td>\n",
       "      <td>Smoker</td>\n",
       "    </tr>\n",
       "  </tbody>\n",
       "</table>\n",
       "</div>"
      ],
      "text/plain": [
       "          Site  DonorAge  DonorBMI DonorBloodType                  DonorRace  \\\n",
       "DonorID                                                                        \n",
       "10886    site1        35      28.6             B+                      Asian   \n",
       "11466    site3        22      31.5             A+                      Asian   \n",
       "12710    site2        27      32.1             O+                      White   \n",
       "13272    site4        35      31.0             O+                 Other Race   \n",
       "15078    site1        34      24.8             B-                      White   \n",
       "16710    site2        40      27.8             O+                      White   \n",
       "18303    site1        33      24.0             O+                      Asian   \n",
       "19593    site4        31      32.6             A+  Black or African American   \n",
       "28045    site3        36      23.8             A+                 Other Race   \n",
       "28483    site3        21      26.7             O+                 Other Race   \n",
       "\n",
       "                      Ethnicity DonorGender QCMeds DonorSmoker  \n",
       "DonorID                                                         \n",
       "10886    NOT HISPANIC OR LATINO      Female   True   Nonsmoker  \n",
       "11466    NOT HISPANIC OR LATINO      Female   True   Nonsmoker  \n",
       "12710    NOT HISPANIC OR LATINO        Male  False   Nonsmoker  \n",
       "13272        HISPANIC OR LATINO        Male  False   Nonsmoker  \n",
       "15078        HISPANIC OR LATINO        Male  False   Nonsmoker  \n",
       "16710        HISPANIC OR LATINO      Female  False      Smoker  \n",
       "18303    NOT HISPANIC OR LATINO        Male  False      Smoker  \n",
       "19593    NOT HISPANIC OR LATINO        Male  False   Nonsmoker  \n",
       "28045        HISPANIC OR LATINO      Female  False   Nonsmoker  \n",
       "28483        HISPANIC OR LATINO      Female  False      Smoker  "
      ]
     },
     "execution_count": 7,
     "metadata": {},
     "output_type": "execute_result"
    }
   ],
   "source": [
    "BMMC.obs.drop_duplicates(subset=[\"DonorID\"], keep='first').reset_index()[[\"Site\",\"DonorID\",\"DonorAge\",\"DonorBMI\",\"DonorBloodType\",\"DonorRace\",\"Ethnicity\",\"DonorGender\",\"QCMeds\",\"DonorSmoker\"]].set_index('DonorID').sort_values(by=['DonorID'])"
   ]
  },
  {
   "cell_type": "code",
   "execution_count": 8,
   "id": "36bb8a96",
   "metadata": {},
   "outputs": [
    {
     "name": "stdout",
     "output_type": "stream",
     "text": [
      "69249 samples of 10 donors\n"
     ]
    },
    {
     "data": {
      "image/png": "[encoded data removed]",
      "text/plain": [
       "<Figure size 432x288 with 1 Axes>"
      ]
     },
     "metadata": {
      "needs_background": "light"
     },
     "output_type": "display_data"
    }
   ],
   "source": [
    "donors, donor_sample_count = np.unique(BMMC.obs['DonorID'], return_counts=True)\n",
    "color = ['red', 'red', 'red', 'red', 'red', 'red', 'red', 'green', 'green', 'green']\n",
    "fig = plt.figure()\n",
    "ax = fig.add_axes([0,0,1,1])\n",
    "print(f\"{np.sum(donor_sample_count)} samples of {len(donors)} donors\")\n",
    "ax.bar(list(map(str, donors)), donor_sample_count, color=color)\n",
    "plt.xticks(rotation=30, ha='right')\n",
    "plt.xlabel(\"Donor id\")\n",
    "plt.ylabel(\"#samples\")\n",
    "colors = {'train':'red', 'test':'green'}         \n",
    "labels = list(colors.keys())\n",
    "handles = [plt.Rectangle((0,0),1,1, color=colors[label]) for label in labels]\n",
    "plt.legend(handles, labels)\n",
    "plt.show()"
   ]
  },
  {
   "cell_type": "code",
   "execution_count": 9,
   "id": "2ee5039d",
   "metadata": {},
   "outputs": [
    {
     "name": "stdout",
     "output_type": "stream",
     "text": [
      "50913 train samples\n",
      "18336 test samples\n",
      "73.52% of samples used for training\n"
     ]
    }
   ],
   "source": [
    "test_donors_idx = [19593, 28045, 28483]\n",
    "test_filter = np.isin(BMMC.obs['DonorID'], test_donors_idx)\n",
    "train_filter = np.invert(test_filter)\n",
    "\n",
    "n_train = np.sum(train_filter)\n",
    "n_test = np.sum(test_filter)\n",
    "print(f\"{n_train} train samples\\n{n_test} test samples\\n{n_train/(n_train+n_test)*100:.2f}% of samples used for training\")"
   ]
  },
  {
   "cell_type": "code",
   "execution_count": 10,
   "id": "526ce5f5",
   "metadata": {},
   "outputs": [],
   "source": [
    "X_test = BMMC.obsm['ATAC_gene_activity'][test_filter]\n",
    "X_train = BMMC.obsm['ATAC_gene_activity'][train_filter]\n",
    "\n",
    "Y_test = BMMC.obs['cell_type'][test_filter]\n",
    "Y_train = BMMC.obs['cell_type'][train_filter]"
   ]
  },
  {
   "cell_type": "code",
   "execution_count": 11,
   "id": "eb84e895",
   "metadata": {},
   "outputs": [
    {
     "data": {
      "text/plain": [
       "TAGTTGTCACCCTCAC-1-s1d1     Naive CD20+ B\n",
       "CTATGGCCATAACGGG-1-s1d1        CD14+ Mono\n",
       "CCGCACACAGGTTAAA-1-s1d1            CD8+ T\n",
       "TCATTTGGTAATGGAA-1-s1d1            CD8+ T\n",
       "ACCACATAGGTGTCCA-1-s1d1        CD16+ Mono\n",
       "                                ...      \n",
       "AAACCGCGTTTGAGGC-12-s4d9     CD8+ T naive\n",
       "TGACTTAAGTTCCCGT-12-s4d9       Lymph prog\n",
       "GCTGTACCACCGTTCC-12-s4d9           CD8+ T\n",
       "ACACTTGCAACTAGAA-12-s4d9             cDC2\n",
       "CACTTAAAGTCTGGGC-12-s4d9    Naive CD20+ B\n",
       "Name: cell_type, Length: 50913, dtype: category\n",
       "Categories (22, object): ['B1 B', 'CD4+ T activated', 'CD4+ T naive', 'CD8+ T', ..., 'Proerythroblast', 'Transitional B', 'cDC2', 'pDC']"
      ]
     },
     "execution_count": 11,
     "metadata": {},
     "output_type": "execute_result"
    }
   ],
   "source": [
    "Y_train"
   ]
  },
  {
   "cell_type": "code",
   "execution_count": 12,
   "id": "8e511319",
   "metadata": {},
   "outputs": [],
   "source": [
    "train_donors = BMMC.obs[train_filter]['DonorID']"
   ]
  },
  {
   "cell_type": "markdown",
   "id": "a83f3060",
   "metadata": {},
   "source": [
    "# Data visualistion"
   ]
  },
  {
   "cell_type": "code",
   "execution_count": 13,
   "id": "5dea8ce3",
   "metadata": {
    "scrolled": false
   },
   "outputs": [
    {
     "name": "stdout",
     "output_type": "stream",
     "text": [
      "['B1 B' 'CD14+ Mono' 'CD16+ Mono' 'CD4+ T activated' 'CD4+ T naive'\n",
      " 'CD8+ T' 'CD8+ T naive' 'Erythroblast' 'G/M prog' 'HSC'\n",
      " 'ID2-hi myeloid prog' 'ILC' 'Lymph prog' 'MK/E prog' 'NK' 'Naive CD20+ B'\n",
      " 'Normoblast' 'Plasma cell' 'Proerythroblast' 'Transitional B' 'cDC2'\n",
      " 'pDC']\n"
     ]
    }
   ],
   "source": [
    "cell_types = np.unique(BMMC.obs['cell_type'])\n",
    "print(cell_types)"
   ]
  },
  {
   "cell_type": "code",
   "execution_count": 15,
   "id": "3f62239c",
   "metadata": {},
   "outputs": [
    {
     "name": "stdout",
     "output_type": "stream",
     "text": [
      "50913 samples of 22 cells\n"
     ]
    },
    {
     "data": {
      "image/png": "[encoded data removed]",
      "text/plain": [
       "<Figure size 432x288 with 1 Axes>"
      ]
     },
     "metadata": {
      "needs_background": "light"
     },
     "output_type": "display_data"
    }
   ],
   "source": [
    "cell_types = np.unique(BMMC.obs['cell_type'])\n",
    "cell_types_sorted = sorted(cell_types)\n",
    "\n",
    "\n",
    "cells, counts = np.unique(Y_train, return_counts=True)\n",
    "print(f\"{np.sum(counts)} samples of {len(cells)} cells\")\n",
    "for missing_celltype in set(cell_types) - set(cells):\n",
    "    cells = np.append(cells, missing_celltype)\n",
    "    counts = np.append(counts, 0)\n",
    "\n",
    "sorted_counts = counts[[np.where(np.isin(cells, c))[0][0] for c in cell_types_sorted]]\n",
    "\n",
    "fig = plt.figure()\n",
    "ax = fig.add_axes([0,0,1,1])\n",
    "ax.bar(cell_types_sorted, sorted_counts)\n",
    "plt.xticks(rotation=30, ha='right')\n",
    "plt.xlabel(\"Cell type\")\n",
    "plt.ylabel(\"#samples\")\n",
    "plt.show()"
   ]
  },
  {
   "cell_type": "code",
   "execution_count": 19,
   "id": "11766f37",
   "metadata": {},
   "outputs": [
    {
     "data": {
      "text/plain": [
       "<50913x19039 sparse matrix of type '<class 'numpy.float32'>'\n",
       "\twith 268039283 stored elements in Compressed Sparse Column format>"
      ]
     },
     "execution_count": 19,
     "metadata": {},
     "output_type": "execute_result"
    }
   ],
   "source": [
    "X_train"
   ]
  },
  {
   "cell_type": "code",
   "execution_count": 20,
   "id": "063c08a0",
   "metadata": {},
   "outputs": [
    {
     "name": "stdout",
     "output_type": "stream",
     "text": [
      "The sparsity of the train matrix is 72.35%\n"
     ]
    }
   ],
   "source": [
    "print(f\"The sparsity of the train matrix is {(1 - X_train.nnz / (X_train.shape[0] * X_train.shape[1])) * 100:.2f}%\")"
   ]
  },
  {
   "cell_type": "markdown",
   "id": "5e81da21",
   "metadata": {},
   "source": [
    "# Model Training"
   ]
  },
  {
   "cell_type": "code",
   "execution_count": 23,
   "id": "95a8856d",
   "metadata": {},
   "outputs": [
    {
     "name": "stdout",
     "output_type": "stream",
     "text": [
      "Fitting 5 folds for each of 7 candidates, totalling 35 fits\n",
      "[CV 1/5] END ........C=0.01;, score=(train=1.000, test=0.773) total time= 4.8min\n",
      "[CV 2/5] END ........C=0.01;, score=(train=1.000, test=0.739) total time= 4.8min\n",
      "[CV 3/5] END ........C=0.01;, score=(train=1.000, test=0.674) total time= 5.1min\n",
      "[CV 4/5] END ........C=0.01;, score=(train=1.000, test=0.784) total time= 6.6min\n",
      "[CV 5/5] END ........C=0.01;, score=(train=1.000, test=0.733) total time= 4.6min\n",
      "[CV 1/5] END C=0.03162277660168379;, score=(train=1.000, test=0.772) total time= 5.0min\n",
      "[CV 2/5] END C=0.03162277660168379;, score=(train=1.000, test=0.736) total time= 5.1min\n",
      "[CV 3/5] END C=0.03162277660168379;, score=(train=1.000, test=0.674) total time= 5.1min\n",
      "[CV 4/5] END C=0.03162277660168379;, score=(train=1.000, test=0.778) total time= 7.7min\n",
      "[CV 5/5] END C=0.03162277660168379;, score=(train=1.000, test=0.730) total time= 5.5min\n",
      "[CV 1/5] END .........C=0.1;, score=(train=1.000, test=0.771) total time= 5.3min\n",
      "[CV 2/5] END .........C=0.1;, score=(train=1.000, test=0.735) total time= 4.8min\n",
      "[CV 3/5] END .........C=0.1;, score=(train=1.000, test=0.674) total time= 5.4min\n",
      "[CV 4/5] END .........C=0.1;, score=(train=1.000, test=0.775) total time= 7.5min\n",
      "[CV 5/5] END .........C=0.1;, score=(train=1.000, test=0.728) total time= 5.9min\n",
      "[CV 1/5] END C=0.31622776601683794;, score=(train=1.000, test=0.771) total time= 5.2min\n",
      "[CV 2/5] END C=0.31622776601683794;, score=(train=1.000, test=0.735) total time= 4.9min\n",
      "[CV 3/5] END C=0.31622776601683794;, score=(train=1.000, test=0.674) total time= 5.5min\n",
      "[CV 4/5] END C=0.31622776601683794;, score=(train=1.000, test=0.775) total time= 7.4min\n",
      "[CV 5/5] END C=0.31622776601683794;, score=(train=1.000, test=0.727) total time= 5.7min\n",
      "[CV 1/5] END .........C=1.0;, score=(train=1.000, test=0.771) total time= 5.3min\n",
      "[CV 2/5] END .........C=1.0;, score=(train=1.000, test=0.735) total time= 5.3min\n",
      "[CV 3/5] END .........C=1.0;, score=(train=1.000, test=0.674) total time= 5.4min\n",
      "[CV 4/5] END .........C=1.0;, score=(train=1.000, test=0.774) total time= 7.7min\n",
      "[CV 5/5] END .........C=1.0;, score=(train=1.000, test=0.727) total time= 6.0min\n",
      "[CV 1/5] END C=3.1622776601683795;, score=(train=1.000, test=0.771) total time= 5.4min\n",
      "[CV 2/5] END C=3.1622776601683795;, score=(train=1.000, test=0.735) total time= 4.9min\n",
      "[CV 3/5] END C=3.1622776601683795;, score=(train=1.000, test=0.674) total time= 5.4min\n",
      "[CV 4/5] END C=3.1622776601683795;, score=(train=1.000, test=0.774) total time= 7.7min\n",
      "[CV 5/5] END C=3.1622776601683795;, score=(train=1.000, test=0.727) total time= 5.8min\n",
      "[CV 1/5] END ........C=10.0;, score=(train=1.000, test=0.771) total time= 5.3min\n",
      "[CV 2/5] END ........C=10.0;, score=(train=1.000, test=0.735) total time= 5.0min\n",
      "[CV 3/5] END ........C=10.0;, score=(train=1.000, test=0.674) total time= 5.8min\n",
      "[CV 4/5] END ........C=10.0;, score=(train=1.000, test=0.774) total time= 8.1min\n",
      "[CV 5/5] END ........C=10.0;, score=(train=1.000, test=0.727) total time= 6.0min\n"
     ]
    },
    {
     "data": {
      "text/plain": [
       "GridSearchCV(cv=StratifiedGroupKFold(n_splits=5, random_state=2023, shuffle=True),\n",
       "             estimator=LinearSVC(), n_jobs=-1,\n",
       "             param_grid={'C': [0.01, 0.03162277660168379, 0.1,\n",
       "                               0.31622776601683794, 1.0, 3.1622776601683795,\n",
       "                               10.0]},\n",
       "             return_train_score=True, verbose=5)"
      ]
     },
     "execution_count": 23,
     "metadata": {},
     "output_type": "execute_result"
    }
   ],
   "source": [
    "n_folds = 5 # change?\n",
    "\n",
    "cv = StratifiedGroupKFold(n_splits=n_folds, shuffle=True, random_state = seed)\n",
    "\n",
    "param_grid = {\n",
    "    'C': [10**x for x in np.arange(-2, 1.1, 0.5)]\n",
    "}\n",
    "\n",
    "lsvc = svm.LinearSVC()\n",
    "gridsearch = GridSearchCV(lsvc, param_grid, n_jobs=-1, cv=cv, verbose=5, \n",
    "                          return_train_score=True)\n",
    "\n",
    "gridsearch.fit(X_train, Y_train, groups=train_donors)"
   ]
  },
  {
   "cell_type": "code",
   "execution_count": 24,
   "id": "9a3bfe4a",
   "metadata": {},
   "outputs": [
    {
     "name": "stdout",
     "output_type": "stream",
     "text": [
      "Average training accuracy across folds: 1.0\n",
      "Average validation accuracy across folds: 0.741\n",
      "Best hyperparams: {'C': 0.01}\n"
     ]
    }
   ],
   "source": [
    "results = gridsearch.cv_results_\n",
    "train_score = results['mean_train_score'][gridsearch.best_index_]\n",
    "validation_score = results['mean_test_score'][gridsearch.best_index_]\n",
    "\n",
    "print(f'Average training accuracy across folds: {train_score:.3}')\n",
    "print(f'Average validation accuracy across folds: {validation_score:.3}')\n",
    "\n",
    "print(f'Best hyperparams: {gridsearch.best_params_}')"
   ]
  },
  {
   "cell_type": "code",
   "execution_count": 25,
   "id": "fc260ef9",
   "metadata": {},
   "outputs": [],
   "source": [
    "# save best model\n",
    "with open('lsvm_atac.pkl','wb') as f:\n",
    "    pickle.dump(gridsearch.best_estimator_,f)"
   ]
  }
 ],
 "metadata": {
  "kernelspec": {
   "display_name": "Python 3 (ipykernel)",
   "language": "python",
   "name": "python3"
  },
  "language_info": {
   "codemirror_mode": {
    "name": "ipython",
    "version": 3
   },
   "file_extension": ".py",
   "mimetype": "text/x-python",
   "name": "python",
   "nbconvert_exporter": "python",
   "pygments_lexer": "ipython3",
   "version": "3.9.6"
  }
 },
 "nbformat": 4,
 "nbformat_minor": 5
}
