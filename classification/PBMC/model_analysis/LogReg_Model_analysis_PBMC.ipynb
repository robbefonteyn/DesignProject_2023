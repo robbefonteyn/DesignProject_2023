{
 "cells": [
  {
   "cell_type": "code",
   "execution_count": 23,
   "id": "72284936",
   "metadata": {},
   "outputs": [],
   "source": [
    "import numpy as np\n",
    "import scanpy as sp\n",
    "import pandas as pd\n",
    "import pickle\n",
    "import matplotlib\n",
    "import matplotlib.pyplot as plt\n",
    "plt.style.use('ggplot')\n",
    "%matplotlib inline\n",
    "\n",
    "import sklearn as sk\n",
    "from sklearn.linear_model import LogisticRegression\n",
    "from sklearn.model_selection import StratifiedKFold, GridSearchCV\n",
    "from sklearn.model_selection import train_test_split\n",
    "\n",
    "seed = 2023 # DO NOT CHANGE!"
   ]
  },
  {
   "cell_type": "code",
   "execution_count": 24,
   "id": "733e81c4",
   "metadata": {
    "scrolled": true
   },
   "outputs": [
    {
     "name": "stdout",
     "output_type": "stream",
     "text": [
      "sklearn version: 1.0.1\n",
      "numpy version: 1.21.3\n",
      "pandas version: 1.3.4\n",
      "matplotlib version: 3.4.3\n",
      "scanpy version: 1.9.1\n"
     ]
    }
   ],
   "source": [
    "print(f\"sklearn version: {sk.__version__}\")\n",
    "print(f\"numpy version: {np.__version__}\")\n",
    "print(f\"pandas version: {pd.__version__}\")\n",
    "print(f\"matplotlib version: {matplotlib.__version__}\")\n",
    "print(f\"scanpy version: {sp.__version__}\")"
   ]
  },
  {
   "cell_type": "code",
   "execution_count": 25,
   "id": "73170393",
   "metadata": {},
   "outputs": [
    {
     "data": {
      "text/plain": [
       "[0.1,\n",
       " 0.31622776601683794,\n",
       " 1.0,\n",
       " 3.1622776601683795,\n",
       " 10.0,\n",
       " 31.622776601683793,\n",
       " 100.0,\n",
       " 316.22776601683796,\n",
       " 1000.0]"
      ]
     },
     "execution_count": 25,
     "metadata": {},
     "output_type": "execute_result"
    }
   ],
   "source": [
    "[10**x for x in np.arange(-1, 3.1, 0.5)]"
   ]
  },
  {
   "cell_type": "markdown",
   "id": "3a7c5963",
   "metadata": {},
   "source": [
    "# Split Train/test"
   ]
  },
  {
   "cell_type": "code",
   "execution_count": 26,
   "id": "0c09dd03",
   "metadata": {},
   "outputs": [],
   "source": [
    "PBMC = sp.read_h5ad(\"../pbmc_multiome.h5ad\")"
   ]
  },
  {
   "cell_type": "code",
   "execution_count": 27,
   "id": "730613e7",
   "metadata": {},
   "outputs": [],
   "source": [
    "data = PBMC.X"
   ]
  },
  {
   "cell_type": "code",
   "execution_count": 28,
   "id": "91bc2124",
   "metadata": {},
   "outputs": [
    {
     "name": "stdout",
     "output_type": "stream",
     "text": [
      "The data has 9641 observations and 19607 features.\n"
     ]
    }
   ],
   "source": [
    "print(f\"The data has {PBMC.n_obs} observations and {PBMC.n_vars} features.\")"
   ]
  },
  {
   "cell_type": "code",
   "execution_count": 29,
   "id": "7a16de61",
   "metadata": {},
   "outputs": [
    {
     "name": "stdout",
     "output_type": "stream",
     "text": [
      "['ASDC' 'CD4 Proliferating' 'CD8 Proliferating' 'HSPC' 'ILC' 'cDC1' 'dnT']\n",
      "(9619,)\n"
     ]
    }
   ],
   "source": [
    "cutoff = 0.001\n",
    "\n",
    "cell_types, type_numbers = np.unique(PBMC.obs['predicted.id'], return_counts=True)\n",
    "bad_types = cell_types[type_numbers / len(PBMC.obs['predicted.id'])<cutoff]\n",
    "print(bad_types)\n",
    "\n",
    "bad_types_mask = np.invert(np.isin(PBMC.obs['predicted.id'], bad_types))\n",
    "X = PBMC.X[bad_types_mask]\n",
    "Y = PBMC.obs['predicted.id'][bad_types_mask]\n",
    "\n",
    "print(Y.shape)"
   ]
  },
  {
   "cell_type": "code",
   "execution_count": 30,
   "id": "1b1a9e3d",
   "metadata": {},
   "outputs": [
    {
     "name": "stdout",
     "output_type": "stream",
     "text": [
      "7214 train samples\n",
      "2405 test samples\n",
      "75.00% of samples used for training\n"
     ]
    }
   ],
   "source": [
    "X_train, X_test, Y_train, Y_test = train_test_split(X, Y, test_size=0.25, random_state=seed)\n",
    "\n",
    "n_train = X_train.shape[0]\n",
    "n_test = X_test.shape[0]\n",
    "print(f\"{n_train} train samples\\n{n_test} test samples\\n{n_train/(n_train+n_test)*100:.2f}% of samples used for training\")"
   ]
  },
  {
   "cell_type": "markdown",
   "id": "e81d3c41",
   "metadata": {},
   "source": [
    "# Model Analysis"
   ]
  },
  {
   "cell_type": "code",
   "execution_count": 31,
   "id": "26d3dd04",
   "metadata": {},
   "outputs": [],
   "source": [
    "# load model\n",
    "with open('LogReg_best_model_PBMC.pkl', 'rb') as f:\n",
    "    best_model = pickle.load(f)"
   ]
  },
  {
   "cell_type": "code",
   "execution_count": 32,
   "id": "82224feb",
   "metadata": {},
   "outputs": [],
   "source": [
    "test_pred = best_model.predict(X_test)\n",
    "train_pred = best_model.predict(X_train)\n",
    "all_pred = best_model.predict(data)"
   ]
  },
  {
   "cell_type": "code",
   "execution_count": null,
   "id": "56376b3d",
   "metadata": {},
   "outputs": [],
   "source": []
  },
  {
   "cell_type": "markdown",
   "id": "30005df6",
   "metadata": {},
   "source": [
    "## Accuracy"
   ]
  },
  {
   "cell_type": "code",
   "execution_count": 33,
   "id": "303aa488",
   "metadata": {},
   "outputs": [
    {
     "name": "stdout",
     "output_type": "stream",
     "text": [
      "Train accuracy: 1.00000\n",
      "Test accuracy: 0.83534\n",
      "\n",
      "Balanced Train Accuracy: 1.00000\n",
      "Balanced Test Accuracy: 0.57763\n",
      "\n"
     ]
    }
   ],
   "source": [
    "from sklearn.metrics import accuracy_score, balanced_accuracy_score\n",
    "\n",
    "\n",
    "print(f\"Train accuracy: {accuracy_score(Y_train, train_pred):.5f}\")\n",
    "print(f\"Test accuracy: {accuracy_score(Y_test, test_pred):.5f}\")\n",
    "print(\"\")\n",
    "print(f\"Balanced Train Accuracy: {balanced_accuracy_score(Y_train, train_pred):.5f}\")\n",
    "print(f\"Balanced Test Accuracy: {balanced_accuracy_score(Y_test, test_pred):.5f}\")\n",
    "print(\"\")"
   ]
  },
  {
   "cell_type": "markdown",
   "id": "98a1942e",
   "metadata": {},
   "source": [
    "## F1 Score"
   ]
  },
  {
   "cell_type": "code",
   "execution_count": 34,
   "id": "79c601c3",
   "metadata": {},
   "outputs": [
    {
     "name": "stdout",
     "output_type": "stream",
     "text": [
      "                  precision    recall  f1-score   support\n",
      "\n",
      "  B intermediate       0.86      0.94      0.90        78\n",
      "        B memory       0.88      0.82      0.85        17\n",
      "         B naive       1.00      0.69      0.82        29\n",
      "       CD14 Mono       0.95      0.98      0.97       507\n",
      "       CD16 Mono       0.92      0.97      0.95        74\n",
      "       CD4 Naive       0.78      0.68      0.73       335\n",
      "         CD4 TCM       0.79      0.88      0.84       657\n",
      "         CD4 TEM       0.50      0.11      0.19        44\n",
      "       CD8 Naive       0.88      0.88      0.88       137\n",
      "         CD8 TCM       0.00      0.00      0.00         8\n",
      "         CD8 TEM       0.74      0.84      0.79       306\n",
      "            MAIT       0.84      0.84      0.84        43\n",
      "              NK       0.85      0.86      0.86        74\n",
      "NK Proliferating       0.00      0.00      0.00         1\n",
      "   NK_CD56bright       0.00      0.00      0.00         4\n",
      "     Plasmablast       0.00      0.00      0.00         3\n",
      "            Treg       0.95      0.43      0.59        47\n",
      "            cDC2       1.00      0.63      0.77        27\n",
      "             gdT       0.00      0.00      0.00         8\n",
      "             pDC       0.75      1.00      0.86         6\n",
      "\n",
      "        accuracy                           0.84      2405\n",
      "       macro avg       0.63      0.58      0.59      2405\n",
      "    weighted avg       0.83      0.84      0.82      2405\n",
      "\n"
     ]
    },
    {
     "name": "stderr",
     "output_type": "stream",
     "text": [
      "/apps/gent/RHEL8/zen3x-ib/software/scikit-learn/1.0.1-foss-2021b/lib/python3.9/site-packages/sklearn/metrics/_classification.py:1308: UndefinedMetricWarning: Precision and F-score are ill-defined and being set to 0.0 in labels with no predicted samples. Use `zero_division` parameter to control this behavior.\n",
      "  _warn_prf(average, modifier, msg_start, len(result))\n",
      "/apps/gent/RHEL8/zen3x-ib/software/scikit-learn/1.0.1-foss-2021b/lib/python3.9/site-packages/sklearn/metrics/_classification.py:1308: UndefinedMetricWarning: Precision and F-score are ill-defined and being set to 0.0 in labels with no predicted samples. Use `zero_division` parameter to control this behavior.\n",
      "  _warn_prf(average, modifier, msg_start, len(result))\n",
      "/apps/gent/RHEL8/zen3x-ib/software/scikit-learn/1.0.1-foss-2021b/lib/python3.9/site-packages/sklearn/metrics/_classification.py:1308: UndefinedMetricWarning: Precision and F-score are ill-defined and being set to 0.0 in labels with no predicted samples. Use `zero_division` parameter to control this behavior.\n",
      "  _warn_prf(average, modifier, msg_start, len(result))\n"
     ]
    }
   ],
   "source": [
    "from sklearn.metrics import classification_report\n",
    "\n",
    "print(classification_report(Y_test, test_pred))"
   ]
  },
  {
   "cell_type": "markdown",
   "id": "78eeef94",
   "metadata": {},
   "source": [
    "## Confusion Matrices"
   ]
  },
  {
   "cell_type": "code",
   "execution_count": 35,
   "id": "a8360065",
   "metadata": {
    "scrolled": false
   },
   "outputs": [
    {
     "ename": "NameError",
     "evalue": "name 'test_predictions' is not defined",
     "output_type": "error",
     "traceback": [
      "\u001b[0;31m---------------------------------------------------------------------------\u001b[0m",
      "\u001b[0;31mNameError\u001b[0m                                 Traceback (most recent call last)",
      "\u001b[0;32m/tmp/ipykernel_2038247/1906512420.py\u001b[0m in \u001b[0;36m<module>\u001b[0;34m\u001b[0m\n\u001b[1;32m      5\u001b[0m \u001b[0;31m# Plot non-normalized confusion matrix\u001b[0m\u001b[0;34m\u001b[0m\u001b[0;34m\u001b[0m\u001b[0;34m\u001b[0m\u001b[0m\n\u001b[1;32m      6\u001b[0m titles_options = [\n\u001b[0;32m----> 7\u001b[0;31m     \u001b[0;34m(\u001b[0m\u001b[0;34m\"Confusion matrix test predictions, without normalization\"\u001b[0m\u001b[0;34m,\u001b[0m \u001b[0;32mNone\u001b[0m\u001b[0;34m,\u001b[0m \u001b[0mtest_predictions\u001b[0m\u001b[0;34m,\u001b[0m \u001b[0mY_test\u001b[0m\u001b[0;34m,\u001b[0m \u001b[0mcell_types_sorted\u001b[0m\u001b[0;34m)\u001b[0m\u001b[0;34m,\u001b[0m\u001b[0;34m\u001b[0m\u001b[0;34m\u001b[0m\u001b[0m\n\u001b[0m\u001b[1;32m      8\u001b[0m     \u001b[0;34m(\u001b[0m\u001b[0;34m\"Normalized confusion matrix test predictions\"\u001b[0m\u001b[0;34m,\u001b[0m \u001b[0;34m\"true\"\u001b[0m\u001b[0;34m,\u001b[0m \u001b[0mtest_predictions\u001b[0m\u001b[0;34m,\u001b[0m \u001b[0mY_test\u001b[0m\u001b[0;34m,\u001b[0m \u001b[0mcell_types_sorted\u001b[0m\u001b[0;34m)\u001b[0m\u001b[0;34m,\u001b[0m\u001b[0;34m\u001b[0m\u001b[0;34m\u001b[0m\u001b[0m\n\u001b[1;32m      9\u001b[0m     \u001b[0;34m(\u001b[0m\u001b[0;34m\"Confusion matrix test predictions main cell types, without normalization\"\u001b[0m\u001b[0;34m,\u001b[0m \u001b[0;32mNone\u001b[0m\u001b[0;34m,\u001b[0m \u001b[0mtest_main_pred\u001b[0m\u001b[0;34m,\u001b[0m \u001b[0mY_test_main\u001b[0m\u001b[0;34m,\u001b[0m \u001b[0mmain_cell_types_sorted\u001b[0m\u001b[0;34m)\u001b[0m\u001b[0;34m,\u001b[0m\u001b[0;34m\u001b[0m\u001b[0;34m\u001b[0m\u001b[0m\n",
      "\u001b[0;31mNameError\u001b[0m: name 'test_predictions' is not defined"
     ]
    }
   ],
   "source": [
    "from sklearn.metrics import ConfusionMatrixDisplay\n",
    "\n",
    "np.set_printoptions(precision=2)\n",
    "\n",
    "# Plot non-normalized confusion matrix\n",
    "titles_options = [\n",
    "    (\"Confusion matrix test predictions, without normalization\", None, test_predictions, Y_test, cell_types_sorted),\n",
    "    (\"Normalized confusion matrix test predictions\", \"true\", test_predictions, Y_test, cell_types_sorted),\n",
    "    (\"Confusion matrix test predictions main cell types, without normalization\", None, test_main_pred, Y_test_main, main_cell_types_sorted),\n",
    "    (\"Normalized confusion matrix test predictions main cell types\", \"true\", test_main_pred, Y_test_main, main_cell_types_sorted),\n",
    "]\n",
    "plt.rcParams['figure.figsize'] = [30, 30]\n",
    "for title, normalize, pred, labels, celltypes in titles_options:\n",
    "    disp = ConfusionMatrixDisplay.from_predictions(\n",
    "        pred,\n",
    "        labels,\n",
    "        cmap=plt.cm.Blues,\n",
    "        normalize=normalize,\n",
    "        labels=celltypes\n",
    "    )\n",
    "    plt.xticks(rotation=30, ha='right')\n",
    "    disp.ax_.set_title(title)\n",
    "\n",
    "plt.grid(False)\n",
    "plt.show()"
   ]
  },
  {
   "cell_type": "code",
   "execution_count": null,
   "id": "0fce7dbc",
   "metadata": {},
   "outputs": [],
   "source": []
  },
  {
   "cell_type": "markdown",
   "id": "24e8e8d7",
   "metadata": {},
   "source": [
    "## Umaps"
   ]
  },
  {
   "cell_type": "code",
   "execution_count": null,
   "id": "cec8a229",
   "metadata": {},
   "outputs": [],
   "source": [
    "umap_coordinates_train = BMMC.obsm['ATAC_umap'][train_filter]\n",
    "umap_coordinates_test = BMMC.obsm['ATAC_umap'][test_filter]\n",
    "\n",
    "def show_umap(_celltypes, _umapcoords, labels, title='UMAP Plot observations', s=10):\n",
    "    colors = plt.cm.get_cmap('viridis', len(_celltypes))\n",
    "\n",
    "    for i, ct_ in enumerate(_celltypes):\n",
    "        mask = (labels == ct_)\n",
    "        plt.scatter(_umapcoords[mask, 0], _umapcoords[mask, 1], label=ct_, color=colors(i), s=s)\n",
    "\n",
    "    plt.xlabel('UMAP 1')\n",
    "    plt.ylabel('UMAP 2')\n",
    "    plt.title(title)\n",
    "    plt.legend(title='Cell Type')\n",
    "    return plt.show()\n",
    "\n",
    "def show_predictions_umap(_umapcoords, _predictions, _labels, _celltypes, _maincelltypes=False, title='UMAP Plot prediction accuracy', s=10):\n",
    "    RightPred_mask = (_predictions == _labels)\n",
    "    plt.scatter(_umapcoords[RightPred_mask, 0], _umapcoords[RightPred_mask, 1], label=\"Right Prediction\", color='green', s=s)\n",
    "    \n",
    "    if _maincelltypes:\n",
    "        MainCellTypePred_mask = np.logical_and((to_main_cell_types(_predictions) == to_main_cell_types(_labels)), np.invert(RightPred_mask))\n",
    "        plt.scatter(_umapcoords[MainCellTypePred_mask, 0], _umapcoords[MainCellTypePred_mask, 1], label=\"Right Main Cell Type Prediction\", color='blue', s=s)\n",
    "    \n",
    "    WrongPred_Mask = np.invert(np.logical_or(RightPred_mask, MainCellTypePred_mask) if _maincelltypes else RightPred_mask)\n",
    "    plt.scatter(_umapcoords[WrongPred_Mask, 0], _umapcoords[WrongPred_Mask, 1], label=\"Wrong Prediction\", color='red', s=s)\n",
    "\n",
    "    plt.xlabel('UMAP 1')\n",
    "    plt.ylabel('UMAP 2')\n",
    "    plt.title(title, fontsize=30)\n",
    "    l = plt.legend(title='Cell Type', fontsize=30, title_fontsize=40)\n",
    "    for legendHandle in l.legendHandles:\n",
    "        legendHandle._sizes = [300]\n",
    "    plt.show()"
   ]
  },
  {
   "cell_type": "code",
   "execution_count": null,
   "id": "bbe17665",
   "metadata": {
    "scrolled": false
   },
   "outputs": [],
   "source": [
    "show_umap(cell_types_sorted, BMMC.obsm['ATAC_umap'], BMMC.obs['cell_type'], title=\"UMAP plot all data with cell subtypes\")\n",
    "show_umap(main_cell_types_sorted, BMMC.obsm['ATAC_umap'], to_main_cell_types(BMMC.obs['cell_type']), title=\"UMAP plot all data with main cell types\")"
   ]
  },
  {
   "cell_type": "code",
   "execution_count": null,
   "id": "e72b4013",
   "metadata": {
    "scrolled": false
   },
   "outputs": [],
   "source": [
    "show_umap(cell_types_sorted, umap_coordinates_test, Y_test, title=\"UMAP plot test data with cell subtypes\")\n",
    "show_umap(main_cell_types_sorted, umap_coordinates_test, Y_test_main, title=\"UMAP plot test data with main celltypes\")"
   ]
  },
  {
   "cell_type": "code",
   "execution_count": null,
   "id": "a265aeb9",
   "metadata": {
    "scrolled": false
   },
   "outputs": [],
   "source": [
    "show_predictions_umap(umap_coordinates_test, test_pred, Y_test, cell_types_sorted, _maincelltypes=False, title='UMAP Plot prediction accuracy with subtypes', s=10)\n",
    "show_predictions_umap(umap_coordinates_test, test_pred, Y_test, cell_types_sorted, _maincelltypes=True, title='UMAP Plot prediction accuracy with main celltypes', s=10)"
   ]
  },
  {
   "cell_type": "code",
   "execution_count": null,
   "id": "edb948e9",
   "metadata": {
    "scrolled": false
   },
   "outputs": [],
   "source": [
    "for d in donors:\n",
    "    _dfilter = BMMC.obs['DonorID'] == d\n",
    "    show_predictions_umap(BMMC.obsm['ATAC_umap'][_dfilter], all_pred[_dfilter], BMMC.obs['cell_type'][_dfilter], cell_types_sorted, _maincelltypes=True, title=f'UMAP Plot prediction accuracy {\"test\" if d in test_donors_idx else \"train\"} donor {d}', s=15)"
   ]
  },
  {
   "cell_type": "code",
   "execution_count": null,
   "id": "a751f87b",
   "metadata": {},
   "outputs": [],
   "source": []
  },
  {
   "cell_type": "code",
   "execution_count": null,
   "id": "f32fb752",
   "metadata": {},
   "outputs": [],
   "source": []
  },
  {
   "cell_type": "code",
   "execution_count": null,
   "id": "873c387a",
   "metadata": {},
   "outputs": [],
   "source": []
  },
  {
   "cell_type": "code",
   "execution_count": null,
   "id": "0b23316c",
   "metadata": {},
   "outputs": [],
   "source": []
  }
 ],
 "metadata": {
  "kernelspec": {
   "display_name": "Python 3 (ipykernel)",
   "language": "python",
   "name": "python3"
  },
  "language_info": {
   "codemirror_mode": {
    "name": "ipython",
    "version": 3
   },
   "file_extension": ".py",
   "mimetype": "text/x-python",
   "name": "python",
   "nbconvert_exporter": "python",
   "pygments_lexer": "ipython3",
   "version": "3.9.6"
  }
 },
 "nbformat": 4,
 "nbformat_minor": 5
}
