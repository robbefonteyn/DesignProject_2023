{
 "cells": [
  {
   "cell_type": "code",
   "execution_count": 1,
   "id": "72284936",
   "metadata": {},
   "outputs": [],
   "source": [
    "import numpy as np\n",
    "import scanpy as sp\n",
    "import pandas as pd\n",
    "import pickle\n",
    "import matplotlib\n",
    "import matplotlib.pyplot as plt\n",
    "plt.style.use('ggplot')\n",
    "%matplotlib inline\n",
    "\n",
    "import sklearn as sk\n",
    "from sklearn.ensemble import RandomForestClassifier\n",
    "from sklearn.model_selection import StratifiedKFold, GridSearchCV\n",
    "from sklearn.model_selection import train_test_split\n",
    "\n",
    "seed = 2023 # DO NOT CHANGE!"
   ]
  },
  {
   "cell_type": "code",
   "execution_count": 2,
   "id": "733e81c4",
   "metadata": {
    "scrolled": true
   },
   "outputs": [
    {
     "name": "stdout",
     "output_type": "stream",
     "text": [
      "sklearn version: 1.0.1\n",
      "numpy version: 1.21.3\n",
      "pandas version: 1.3.4\n",
      "matplotlib version: 3.4.3\n",
      "scanpy version: 1.9.1\n"
     ]
    }
   ],
   "source": [
    "print(f\"sklearn version: {sk.__version__}\")\n",
    "print(f\"numpy version: {np.__version__}\")\n",
    "print(f\"pandas version: {pd.__version__}\")\n",
    "print(f\"matplotlib version: {matplotlib.__version__}\")\n",
    "print(f\"scanpy version: {sp.__version__}\")"
   ]
  },
  {
   "cell_type": "markdown",
   "id": "3a7c5963",
   "metadata": {},
   "source": [
    "# Split Train/test"
   ]
  },
  {
   "cell_type": "code",
   "execution_count": 3,
   "id": "0c09dd03",
   "metadata": {},
   "outputs": [],
   "source": [
    "PBMC = sp.read_h5ad(\"../pbmc_multiome.h5ad\")"
   ]
  },
  {
   "cell_type": "code",
   "execution_count": 4,
   "id": "730613e7",
   "metadata": {},
   "outputs": [],
   "source": [
    "data = PBMC.X"
   ]
  },
  {
   "cell_type": "code",
   "execution_count": 5,
   "id": "91bc2124",
   "metadata": {},
   "outputs": [
    {
     "name": "stdout",
     "output_type": "stream",
     "text": [
      "The data has 9641 observations and 19607 features.\n"
     ]
    }
   ],
   "source": [
    "print(f\"The data has {PBMC.n_obs} observations and {PBMC.n_vars} features.\")"
   ]
  },
  {
   "cell_type": "code",
   "execution_count": 14,
   "id": "7a16de61",
   "metadata": {},
   "outputs": [
    {
     "name": "stdout",
     "output_type": "stream",
     "text": [
      "['ASDC' 'CD4 Proliferating' 'CD8 Proliferating' 'HSPC' 'ILC' 'cDC1' 'dnT']\n",
      "(9619,)\n"
     ]
    }
   ],
   "source": [
    "cutoff = 0.001\n",
    "\n",
    "cell_types, type_numbers = np.unique(PBMC.obs['predicted.id'], return_counts=True)\n",
    "bad_types = cell_types[type_numbers / len(PBMC.obs['predicted.id'])<cutoff]\n",
    "print(bad_types)\n",
    "\n",
    "bad_types_mask = np.invert(np.isin(PBMC.obs['predicted.id'], bad_types))\n",
    "X = PBMC.X[bad_types_mask]\n",
    "Y = PBMC.obs['predicted.id'][bad_types_mask]\n",
    "\n",
    "print(Y.shape)"
   ]
  },
  {
   "cell_type": "code",
   "execution_count": 15,
   "id": "1b1a9e3d",
   "metadata": {},
   "outputs": [
    {
     "name": "stdout",
     "output_type": "stream",
     "text": [
      "7214 train samples\n",
      "2405 test samples\n",
      "75.00% of samples used for training\n"
     ]
    }
   ],
   "source": [
    "X_train, X_test, Y_train, Y_test = train_test_split(X, Y, test_size=0.25, random_state=seed)\n",
    "\n",
    "n_train = X_train.shape[0]\n",
    "n_test = X_test.shape[0]\n",
    "print(f\"{n_train} train samples\\n{n_test} test samples\\n{n_train/(n_train+n_test)*100:.2f}% of samples used for training\")"
   ]
  },
  {
   "cell_type": "markdown",
   "id": "e81d3c41",
   "metadata": {},
   "source": [
    "# Model Analysis"
   ]
  },
  {
   "cell_type": "code",
   "execution_count": 16,
   "id": "26d3dd04",
   "metadata": {},
   "outputs": [],
   "source": [
    "# load model\n",
    "with open('PBMC_RF.pkl', 'rb') as f:\n",
    "    best_model = pickle.load(f)"
   ]
  },
  {
   "cell_type": "code",
   "execution_count": 17,
   "id": "82224feb",
   "metadata": {},
   "outputs": [],
   "source": [
    "test_pred = best_model.predict(X_test)\n",
    "train_pred = best_model.predict(X_train)\n",
    "all_pred = best_model.predict(data)"
   ]
  },
  {
   "cell_type": "code",
   "execution_count": 21,
   "id": "86532497",
   "metadata": {},
   "outputs": [],
   "source": [
    "# Export the Test_pred, Train_pred and all_pred\n",
    "with open(\"PBMC_all_pred_RF.pkl\", \"wb\") as f:\n",
    "    pickle.dump(all_pred,f)\n",
    "\n",
    "with open(\"PBMC_Y_test_RF.pkl\", \"wb\") as f:\n",
    "    pickle.dump(Y_test,f)\n",
    "\n",
    "with open(\"PBMC_Y_train_RF.pkl\", \"wb\") as f:\n",
    "    pickle.dump(all_pred,f)\n",
    "    \n",
    "with open(\"PBMC_Test_pred_RF.pkl\", \"wb\") as f:\n",
    "    pickle.dump(test_pred,f)"
   ]
  },
  {
   "cell_type": "markdown",
   "id": "30005df6",
   "metadata": {},
   "source": [
    "## Accuracy"
   ]
  },
  {
   "cell_type": "code",
   "execution_count": 18,
   "id": "303aa488",
   "metadata": {},
   "outputs": [
    {
     "name": "stdout",
     "output_type": "stream",
     "text": [
      "Train accuracy: 1.00000\n",
      "Test accuracy: 0.66154\n",
      "\n",
      "Balanced Train Accuracy: 1.00000\n",
      "Balanced Test Accuracy: 0.23119\n",
      "\n"
     ]
    }
   ],
   "source": [
    "from sklearn.metrics import accuracy_score, balanced_accuracy_score\n",
    "\n",
    "\n",
    "print(f\"Train accuracy: {accuracy_score(Y_train, train_pred):.5f}\")\n",
    "print(f\"Test accuracy: {accuracy_score(Y_test, test_pred):.5f}\")\n",
    "print(\"\")\n",
    "print(f\"Balanced Train Accuracy: {balanced_accuracy_score(Y_train, train_pred):.5f}\")\n",
    "print(f\"Balanced Test Accuracy: {balanced_accuracy_score(Y_test, test_pred):.5f}\")\n",
    "print(\"\")"
   ]
  },
  {
   "cell_type": "markdown",
   "id": "98a1942e",
   "metadata": {},
   "source": [
    "## F1 Score"
   ]
  },
  {
   "cell_type": "code",
   "execution_count": 20,
   "id": "79c601c3",
   "metadata": {},
   "outputs": [
    {
     "name": "stdout",
     "output_type": "stream",
     "text": [
      "                  precision    recall  f1-score   support\n",
      "\n",
      "  B intermediate       0.65      0.92      0.76        78\n",
      "        B memory       0.00      0.00      0.00        17\n",
      "         B naive       0.00      0.00      0.00        29\n",
      "       CD14 Mono       0.79      0.99      0.88       507\n",
      "       CD16 Mono       0.00      0.00      0.00        74\n",
      "       CD4 Naive       0.61      0.40      0.49       335\n",
      "         CD4 TCM       0.57      0.94      0.71       657\n",
      "         CD4 TEM       0.00      0.00      0.00        44\n",
      "       CD8 Naive       1.00      0.18      0.30       137\n",
      "         CD8 TCM       0.00      0.00      0.00         8\n",
      "         CD8 TEM       0.69      0.67      0.68       306\n",
      "            MAIT       0.00      0.00      0.00        43\n",
      "              NK       0.81      0.53      0.64        74\n",
      "NK Proliferating       0.00      0.00      0.00         1\n",
      "   NK_CD56bright       0.00      0.00      0.00         4\n",
      "     Plasmablast       0.00      0.00      0.00         3\n",
      "            Treg       0.00      0.00      0.00        47\n",
      "            cDC2       0.00      0.00      0.00        27\n",
      "             gdT       0.00      0.00      0.00         8\n",
      "             pDC       0.00      0.00      0.00         6\n",
      "\n",
      "        accuracy                           0.66      2405\n",
      "       macro avg       0.26      0.23      0.22      2405\n",
      "    weighted avg       0.60      0.66      0.60      2405\n",
      "\n"
     ]
    },
    {
     "name": "stderr",
     "output_type": "stream",
     "text": [
      "/apps/gent/RHEL8/zen3x-ib/software/scikit-learn/1.0.1-foss-2021b/lib/python3.9/site-packages/sklearn/metrics/_classification.py:1308: UndefinedMetricWarning: Precision and F-score are ill-defined and being set to 0.0 in labels with no predicted samples. Use `zero_division` parameter to control this behavior.\n",
      "  _warn_prf(average, modifier, msg_start, len(result))\n",
      "/apps/gent/RHEL8/zen3x-ib/software/scikit-learn/1.0.1-foss-2021b/lib/python3.9/site-packages/sklearn/metrics/_classification.py:1308: UndefinedMetricWarning: Precision and F-score are ill-defined and being set to 0.0 in labels with no predicted samples. Use `zero_division` parameter to control this behavior.\n",
      "  _warn_prf(average, modifier, msg_start, len(result))\n",
      "/apps/gent/RHEL8/zen3x-ib/software/scikit-learn/1.0.1-foss-2021b/lib/python3.9/site-packages/sklearn/metrics/_classification.py:1308: UndefinedMetricWarning: Precision and F-score are ill-defined and being set to 0.0 in labels with no predicted samples. Use `zero_division` parameter to control this behavior.\n",
      "  _warn_prf(average, modifier, msg_start, len(result))\n"
     ]
    }
   ],
   "source": [
    "from sklearn.metrics import classification_report\n",
    "\n",
    "print(classification_report(Y_test, test_pred))"
   ]
  }
 ],
 "metadata": {
  "kernelspec": {
   "display_name": "Python 3 (ipykernel)",
   "language": "python",
   "name": "python3"
  },
  "language_info": {
   "codemirror_mode": {
    "name": "ipython",
    "version": 3
   },
   "file_extension": ".py",
   "mimetype": "text/x-python",
   "name": "python",
   "nbconvert_exporter": "python",
   "pygments_lexer": "ipython3",
   "version": "3.9.6"
  }
 },
 "nbformat": 4,
 "nbformat_minor": 5
}
