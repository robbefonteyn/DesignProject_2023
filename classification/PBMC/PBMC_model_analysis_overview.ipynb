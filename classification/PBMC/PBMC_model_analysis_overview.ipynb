{
 "cells": [
  {
   "cell_type": "code",
   "execution_count": 1,
   "id": "72284936",
   "metadata": {},
   "outputs": [],
   "source": [
    "import numpy as np\n",
    "import scanpy as sp\n",
    "import pandas as pd\n",
    "import pickle\n",
    "import matplotlib\n",
    "import matplotlib.pyplot as plt\n",
    "plt.style.use('ggplot')\n",
    "%matplotlib inline\n",
    "\n",
    "import sklearn as sk\n",
    "from sklearn import svm\n",
    "from sklearn.model_selection import StratifiedGroupKFold, GridSearchCV\n",
    "\n",
    "seed = 2023 # DO NOT CHANGE!"
   ]
  },
  {
   "cell_type": "code",
   "execution_count": 2,
   "id": "733e81c4",
   "metadata": {},
   "outputs": [
    {
     "name": "stdout",
     "output_type": "stream",
     "text": [
      "sklearn version: 1.0.1\n",
      "numpy version: 1.21.3\n",
      "pandas version: 1.3.4\n",
      "matplotlib version: 3.4.3\n",
      "scanpy version: 1.9.1\n"
     ]
    }
   ],
   "source": [
    "print(f\"sklearn version: {sk.__version__}\")\n",
    "print(f\"numpy version: {np.__version__}\")\n",
    "print(f\"pandas version: {pd.__version__}\")\n",
    "print(f\"matplotlib version: {matplotlib.__version__}\")\n",
    "print(f\"scanpy version: {sp.__version__}\")"
   ]
  },
  {
   "cell_type": "markdown",
   "id": "dd2c2297",
   "metadata": {},
   "source": [
    "# Load Data / Train-Test split\n",
    "See model training notebooks for more information"
   ]
  },
  {
   "cell_type": "code",
   "execution_count": 4,
   "id": "45e47c57",
   "metadata": {},
   "outputs": [
    {
     "data": {
      "text/plain": [
       "array(['NK', 'CD8 Naive', 'CD14 Mono', ..., 'CD4 TCM', 'CD14 Mono',\n",
       "       'CD4 Naive'], dtype=object)"
      ]
     },
     "execution_count": 4,
     "metadata": {},
     "output_type": "execute_result"
    }
   ],
   "source": [
    "data_folder = \"../models/PBMC/\"\n",
    "\n",
    "with open(f\"{data_folder}PBMC_Y_test.pkl\", 'rb') as f:\n",
    "    Y_test = np.array(pickle.load(f))\n",
    "    \n",
    "Y_test"
   ]
  },
  {
   "cell_type": "markdown",
   "id": "dc7cdbb1",
   "metadata": {},
   "source": [
    "# Load models / make predictions"
   ]
  },
  {
   "cell_type": "code",
   "execution_count": 5,
   "id": "dca287b9",
   "metadata": {},
   "outputs": [
    {
     "data": {
      "text/plain": [
       "['PBMC_Test_pred_LogReg', 'PBMC_Test_pred_RF', 'PBMC_Test_pred_SVM']"
      ]
     },
     "execution_count": 5,
     "metadata": {},
     "output_type": "execute_result"
    }
   ],
   "source": [
    "model_names = [\"PBMC_Test_pred_LogReg\", \"PBMC_Test_pred_RF\", \"PBMC_Test_pred_SVM\"]\n",
    "model_names_sanitizer_ = {\n",
    "    'PBMC_Test_pred_LogReg': \"LogReg\",\n",
    "    \"PBMC_Test_pred_RF\": \"RF\",\n",
    "    \"PBMC_Test_pred_SVM\": \"lSVM\",\n",
    "    \"PBMC_MLP_pred\": \"MLP\"\n",
    "}\n",
    "model_names_sanitizer = lambda x: np.vectorize(model_names_sanitizer_.get)(x)\n",
    "\n",
    "model_names"
   ]
  },
  {
   "cell_type": "code",
   "execution_count": 6,
   "id": "6960723a",
   "metadata": {},
   "outputs": [],
   "source": [
    "pred = {}\n",
    "for m in model_names:\n",
    "    with open(f\"{data_folder}{m}.pkl\", 'rb') as f:\n",
    "        pred[m] = pickle.load(f)"
   ]
  },
  {
   "cell_type": "code",
   "execution_count": 7,
   "id": "4c7e2ff3",
   "metadata": {},
   "outputs": [
    {
     "data": {
      "text/plain": [
       "{'PBMC_Test_pred_LogReg': array(['NK', 'CD8 Naive', 'CD14 Mono', ..., 'CD4 TCM', 'CD14 Mono',\n",
       "        'CD8 TEM'], dtype=object),\n",
       " 'PBMC_Test_pred_RF': array(['CD8 TEM', 'CD4 Naive', 'CD14 Mono', ..., 'CD4 TCM', 'CD14 Mono',\n",
       "        'CD8 TEM'], dtype=object),\n",
       " 'PBMC_Test_pred_SVM': array(['NK', 'CD8 Naive', 'CD14 Mono', ..., 'CD4 TCM', 'CD14 Mono',\n",
       "        'CD4 Naive'], dtype=object)}"
      ]
     },
     "execution_count": 7,
     "metadata": {},
     "output_type": "execute_result"
    }
   ],
   "source": [
    "pred"
   ]
  },
  {
   "cell_type": "code",
   "execution_count": 8,
   "id": "e0a8f222",
   "metadata": {},
   "outputs": [],
   "source": [
    "# ADD MLP predictions\n",
    "mlp_pred_file = \"PBMC_MLP_pred\"\n",
    "\n",
    "with open(f\"{data_folder}{mlp_pred_file}.pkl\", 'rb') as f:\n",
    "    tmp = pickle.load(f)\n",
    "    pred[mlp_pred_file] = tmp[\"test_pred_labels\"]\n",
    "    model_names.append(mlp_pred_file)"
   ]
  },
  {
   "cell_type": "code",
   "execution_count": 9,
   "id": "19d70e93",
   "metadata": {},
   "outputs": [
    {
     "data": {
      "text/plain": [
       "{'PBMC_Test_pred_LogReg': array(['NK', 'CD8 Naive', 'CD14 Mono', ..., 'CD4 TCM', 'CD14 Mono',\n",
       "        'CD8 TEM'], dtype=object),\n",
       " 'PBMC_Test_pred_RF': array(['CD8 TEM', 'CD4 Naive', 'CD14 Mono', ..., 'CD4 TCM', 'CD14 Mono',\n",
       "        'CD8 TEM'], dtype=object),\n",
       " 'PBMC_Test_pred_SVM': array(['NK', 'CD8 Naive', 'CD14 Mono', ..., 'CD4 TCM', 'CD14 Mono',\n",
       "        'CD4 Naive'], dtype=object),\n",
       " 'PBMC_MLP_pred': array(['NK', 'CD8 Naive', 'CD14 Mono', ..., 'CD4 TCM', 'CD14 Mono',\n",
       "        'CD8 TEM'], dtype=object)}"
      ]
     },
     "execution_count": 9,
     "metadata": {},
     "output_type": "execute_result"
    }
   ],
   "source": [
    "pred"
   ]
  },
  {
   "cell_type": "code",
   "execution_count": 10,
   "id": "8be0e7bb",
   "metadata": {},
   "outputs": [
    {
     "data": {
      "text/plain": [
       "['PBMC_Test_pred_LogReg',\n",
       " 'PBMC_Test_pred_RF',\n",
       " 'PBMC_Test_pred_SVM',\n",
       " 'PBMC_MLP_pred']"
      ]
     },
     "execution_count": 10,
     "metadata": {},
     "output_type": "execute_result"
    }
   ],
   "source": [
    "model_names"
   ]
  },
  {
   "cell_type": "markdown",
   "id": "e514786f",
   "metadata": {},
   "source": [
    "# Models analysis"
   ]
  },
  {
   "cell_type": "markdown",
   "id": "d056c16f",
   "metadata": {},
   "source": [
    "### Accuracy"
   ]
  },
  {
   "cell_type": "code",
   "execution_count": 11,
   "id": "674ee2f3",
   "metadata": {},
   "outputs": [
    {
     "data": {
      "text/plain": [
       "[['PBMC_Test_pred_LogReg', 0.8353430353430353],\n",
       " ['PBMC_Test_pred_RF', 0.6615384615384615],\n",
       " ['PBMC_Test_pred_SVM', 0.9413721413721414],\n",
       " ['PBMC_MLP_pred', 0.824948024948025]]"
      ]
     },
     "execution_count": 11,
     "metadata": {},
     "output_type": "execute_result"
    }
   ],
   "source": [
    "from sklearn.metrics import accuracy_score, balanced_accuracy_score\n",
    "[[n, accuracy_score(Y_test, p)] for n, p in pred.items()]"
   ]
  },
  {
   "cell_type": "code",
   "execution_count": 14,
   "id": "317d1886",
   "metadata": {},
   "outputs": [],
   "source": [
    "models_in_plot = model_names # plot every model except RF\n",
    "model_names_in_plot = model_names_sanitizer(models_in_plot)\n",
    "\n",
    "# Sample data\n",
    "p_test = [accuracy_score(Y_test, pred[m]) for m in models_in_plot]\n",
    "p_test_balanced = [balanced_accuracy_score(Y_test, pred[m]) for m in models_in_plot]"
   ]
  },
  {
   "cell_type": "code",
   "execution_count": 15,
   "id": "28b89cf3",
   "metadata": {
    "scrolled": true
   },
   "outputs": [
    {
     "data": {
      "image/png": "[encoded data removed]",
      "text/plain": [
       "<Figure size 432x288 with 1 Axes>"
      ]
     },
     "metadata": {
      "needs_background": "light"
     },
     "output_type": "display_data"
    }
   ],
   "source": [
    "# Metrics to plot\n",
    "x, y = p_test_balanced, p_test\n",
    "x_label, y_label = \"Balanced Accuracy\", \"Accuracy\"\n",
    "\n",
    "# Create scatter plot\n",
    "plt.scatter(x, y)\n",
    "\n",
    "# Add labels next to points\n",
    "for label, x_, y_ in zip(model_names_in_plot, x, y):\n",
    "    plt.annotate(label, (x_, y_), textcoords=\"offset points\", xytext=vert_alignment, ha='center')\n",
    "\n",
    "# Add title and labels\n",
    "plt.title('Models Accuracy Comparison (Normal VS Balanced)')\n",
    "plt.xlabel(x_label)\n",
    "plt.ylabel(y_label)\n",
    "\n",
    "# Show plot\n",
    "plt.show()"
   ]
  },
  {
   "cell_type": "code",
   "execution_count": null,
   "id": "9df56355",
   "metadata": {},
   "outputs": [],
   "source": []
  },
  {
   "cell_type": "code",
   "execution_count": null,
   "id": "f2243d91",
   "metadata": {},
   "outputs": [],
   "source": []
  },
  {
   "cell_type": "markdown",
   "id": "1e60788e",
   "metadata": {},
   "source": [
    "### Precision / Recall / F1 scores"
   ]
  },
  {
   "cell_type": "code",
   "execution_count": 41,
   "id": "1543881c",
   "metadata": {},
   "outputs": [
    {
     "name": "stdout",
     "output_type": "stream",
     "text": [
      "logreg_atac_model\n",
      "                  precision    recall  f1-score   support\n",
      "\n",
      "            B1 B       0.97      0.61      0.75       508\n",
      "      CD14+ Mono       0.86      0.99      0.92      2269\n",
      "      CD16+ Mono       0.95      0.82      0.88       370\n",
      "CD4+ T activated       0.77      0.43      0.56      1167\n",
      "    CD4+ T naive       0.32      0.75      0.45       463\n",
      "          CD8+ T       0.91      0.96      0.93      5009\n",
      "    CD8+ T naive       0.32      0.12      0.17       366\n",
      "    Erythroblast       0.87      0.92      0.90       741\n",
      "        G/M prog       0.79      0.23      0.35       617\n",
      "             HSC       0.61      0.92      0.73       437\n",
      "             ILC       0.55      0.05      0.09       129\n",
      "      Lymph prog       0.94      0.68      0.79       573\n",
      "       MK/E prog       0.71      0.77      0.74       293\n",
      "              NK       0.89      0.91      0.90      1092\n",
      "   Naive CD20+ B       0.78      0.99      0.87      1322\n",
      "      Normoblast       0.94      0.87      0.90       237\n",
      "     Plasma cell       0.92      0.90      0.91        39\n",
      " Proerythroblast       0.93      0.83      0.88       938\n",
      "  Transitional B       0.84      0.82      0.83      1007\n",
      "            cDC2       0.88      0.72      0.79       269\n",
      "             pDC       0.98      1.00      0.99       490\n",
      "\n",
      "        accuracy                           0.83     18336\n",
      "       macro avg       0.80      0.73      0.73     18336\n",
      "    weighted avg       0.84      0.83      0.82     18336\n",
      "\n",
      "lsvm_atac_model\n",
      "                  precision    recall  f1-score   support\n",
      "\n",
      "            B1 B       0.97      0.63      0.76       508\n",
      "      CD14+ Mono       0.86      0.99      0.92      2269\n",
      "      CD16+ Mono       0.96      0.81      0.88       370\n",
      "CD4+ T activated       0.81      0.45      0.58      1167\n",
      "    CD4+ T naive       0.35      0.81      0.48       463\n",
      "          CD8+ T       0.91      0.96      0.93      5009\n",
      "    CD8+ T naive       0.14      0.03      0.05       366\n",
      "    Erythroblast       0.87      0.94      0.90       741\n",
      "        G/M prog       0.82      0.19      0.31       617\n",
      "             HSC       0.61      0.93      0.74       437\n",
      "             ILC       0.62      0.04      0.07       129\n",
      "      Lymph prog       0.93      0.68      0.79       573\n",
      "       MK/E prog       0.75      0.72      0.74       293\n",
      "              NK       0.88      0.92      0.90      1092\n",
      "   Naive CD20+ B       0.78      0.99      0.87      1322\n",
      "      Normoblast       0.98      0.86      0.91       237\n",
      "     Plasma cell       0.90      0.92      0.91        39\n",
      " Proerythroblast       0.93      0.84      0.88       938\n",
      "  Transitional B       0.83      0.82      0.83      1007\n",
      "            cDC2       0.90      0.76      0.82       269\n",
      "             pDC       0.96      1.00      0.98       490\n",
      "\n",
      "        accuracy                           0.83     18336\n",
      "       macro avg       0.80      0.73      0.73     18336\n",
      "    weighted avg       0.84      0.83      0.82     18336\n",
      "\n",
      "lsvm_atac_model_balancedC\n",
      "                  precision    recall  f1-score   support\n",
      "\n",
      "            B1 B       0.97      0.68      0.80       508\n",
      "      CD14+ Mono       0.89      0.98      0.93      2269\n",
      "      CD16+ Mono       0.95      0.85      0.90       370\n",
      "CD4+ T activated       0.85      0.46      0.59      1167\n",
      "    CD4+ T naive       0.27      0.41      0.33       463\n",
      "          CD8+ T       0.92      0.96      0.94      5009\n",
      "    CD8+ T naive       0.37      0.52      0.43       366\n",
      "    Erythroblast       0.90      0.90      0.90       741\n",
      "        G/M prog       0.77      0.25      0.38       617\n",
      "             HSC       0.60      0.93      0.73       437\n",
      "             ILC       0.54      0.10      0.17       129\n",
      "      Lymph prog       0.95      0.68      0.79       573\n",
      "       MK/E prog       0.66      0.78      0.71       293\n",
      "              NK       0.88      0.93      0.91      1092\n",
      "   Naive CD20+ B       0.80      0.99      0.88      1322\n",
      "      Normoblast       0.94      0.89      0.92       237\n",
      "     Plasma cell       0.90      0.97      0.94        39\n",
      " Proerythroblast       0.93      0.83      0.88       938\n",
      "  Transitional B       0.84      0.84      0.84      1007\n",
      "            cDC2       0.82      0.89      0.85       269\n",
      "             pDC       0.96      1.00      0.98       490\n",
      "\n",
      "        accuracy                           0.84     18336\n",
      "       macro avg       0.80      0.75      0.75     18336\n",
      "    weighted avg       0.85      0.84      0.83     18336\n",
      "\n",
      "RF_best_model_ATACseq\n"
     ]
    },
    {
     "name": "stderr",
     "output_type": "stream",
     "text": [
      "/apps/gent/RHEL8/zen3x-ib/software/scikit-learn/1.0.1-foss-2021b/lib/python3.9/site-packages/sklearn/metrics/_classification.py:1308: UndefinedMetricWarning: Precision and F-score are ill-defined and being set to 0.0 in labels with no predicted samples. Use `zero_division` parameter to control this behavior.\n",
      "  _warn_prf(average, modifier, msg_start, len(result))\n",
      "/apps/gent/RHEL8/zen3x-ib/software/scikit-learn/1.0.1-foss-2021b/lib/python3.9/site-packages/sklearn/metrics/_classification.py:1308: UndefinedMetricWarning: Precision and F-score are ill-defined and being set to 0.0 in labels with no predicted samples. Use `zero_division` parameter to control this behavior.\n",
      "  _warn_prf(average, modifier, msg_start, len(result))\n",
      "/apps/gent/RHEL8/zen3x-ib/software/scikit-learn/1.0.1-foss-2021b/lib/python3.9/site-packages/sklearn/metrics/_classification.py:1308: UndefinedMetricWarning: Precision and F-score are ill-defined and being set to 0.0 in labels with no predicted samples. Use `zero_division` parameter to control this behavior.\n",
      "  _warn_prf(average, modifier, msg_start, len(result))\n"
     ]
    },
    {
     "name": "stdout",
     "output_type": "stream",
     "text": [
      "                  precision    recall  f1-score   support\n",
      "\n",
      "            B1 B       0.89      0.18      0.30       508\n",
      "      CD14+ Mono       0.49      1.00      0.65      2269\n",
      "      CD16+ Mono       0.00      0.00      0.00       370\n",
      "CD4+ T activated       0.63      0.32      0.43      1167\n",
      "    CD4+ T naive       0.31      0.65      0.42       463\n",
      "          CD8+ T       0.86      0.94      0.90      5009\n",
      "    CD8+ T naive       0.00      0.00      0.00       366\n",
      "    Erythroblast       0.52      0.87      0.65       741\n",
      "        G/M prog       0.00      0.00      0.00       617\n",
      "             HSC       0.56      0.05      0.10       437\n",
      "             ILC       0.00      0.00      0.00       129\n",
      "      Lymph prog       0.88      0.27      0.41       573\n",
      "       MK/E prog       0.43      0.04      0.07       293\n",
      "              NK       0.76      0.88      0.82      1092\n",
      "   Naive CD20+ B       0.62      0.98      0.76      1322\n",
      "      Normoblast       0.66      0.60      0.63       237\n",
      "     Plasma cell       0.00      0.00      0.00        39\n",
      " Proerythroblast       0.78      0.40      0.53       938\n",
      "  Transitional B       0.75      0.64      0.69      1007\n",
      "            cDC2       0.00      0.00      0.00       269\n",
      "             pDC       0.98      0.27      0.42       490\n",
      "\n",
      "        accuracy                           0.66     18336\n",
      "       macro avg       0.48      0.39      0.37     18336\n",
      "    weighted avg       0.64      0.66      0.60     18336\n",
      "\n",
      "lsvm_gex_model\n",
      "                  precision    recall  f1-score   support\n",
      "\n",
      "            B1 B       0.96      0.67      0.79       508\n",
      "      CD14+ Mono       0.89      0.98      0.93      2269\n",
      "      CD16+ Mono       0.94      0.88      0.91       370\n",
      "CD4+ T activated       0.60      0.46      0.52      1167\n",
      "    CD4+ T naive       0.26      0.56      0.36       463\n",
      "          CD8+ T       0.92      0.89      0.91      5009\n",
      "    CD8+ T naive       0.25      0.16      0.20       366\n",
      "    Erythroblast       0.93      0.91      0.92       741\n",
      "        G/M prog       0.84      0.29      0.43       617\n",
      "             HSC       0.64      0.94      0.76       437\n",
      "             ILC       0.73      0.28      0.40       129\n",
      "      Lymph prog       0.94      0.78      0.86       573\n",
      "       MK/E prog       0.62      0.75      0.68       293\n",
      "              NK       0.83      0.93      0.88      1092\n",
      "   Naive CD20+ B       0.82      0.99      0.89      1322\n",
      "      Normoblast       0.94      0.97      0.95       237\n",
      "     Plasma cell       0.88      0.90      0.89        39\n",
      " Proerythroblast       0.91      0.80      0.85       938\n",
      "  Transitional B       0.88      0.85      0.87      1007\n",
      "            cDC2       0.87      0.79      0.83       269\n",
      "             pDC       0.97      1.00      0.99       490\n",
      "\n",
      "        accuracy                           0.82     18336\n",
      "       macro avg       0.79      0.75      0.75     18336\n",
      "    weighted avg       0.84      0.82      0.82     18336\n",
      "\n",
      "LR_RNAseq_model\n",
      "                  precision    recall  f1-score   support\n",
      "\n",
      "            B1 B       0.99      0.63      0.77       508\n",
      "      CD14+ Mono       0.88      0.98      0.93      2269\n",
      "      CD16+ Mono       0.96      0.86      0.91       370\n",
      "CD4+ T activated       0.77      0.53      0.63      1167\n",
      "    CD4+ T naive       0.29      0.62      0.40       463\n",
      "          CD8+ T       0.93      0.94      0.94      5009\n",
      "    CD8+ T naive       0.07      0.04      0.05       366\n",
      "    Erythroblast       0.91      0.93      0.92       741\n",
      "        G/M prog       0.83      0.29      0.43       617\n",
      "             HSC       0.65      0.92      0.76       437\n",
      "             ILC       1.00      0.24      0.39       129\n",
      "      Lymph prog       0.94      0.77      0.85       573\n",
      "       MK/E prog       0.71      0.78      0.74       293\n",
      "              NK       0.88      0.94      0.91      1092\n",
      "   Naive CD20+ B       0.79      0.99      0.88      1322\n",
      "      Normoblast       0.97      0.97      0.97       237\n",
      "     Plasma cell       0.90      0.92      0.91        39\n",
      " Proerythroblast       0.93      0.85      0.89       938\n",
      "  Transitional B       0.87      0.84      0.85      1007\n",
      "            cDC2       0.87      0.78      0.82       269\n",
      "             pDC       0.96      1.00      0.98       490\n",
      "\n",
      "        accuracy                           0.84     18336\n",
      "       macro avg       0.81      0.75      0.76     18336\n",
      "    weighted avg       0.85      0.84      0.84     18336\n",
      "\n",
      "RF_RNAseq_best_model\n"
     ]
    },
    {
     "name": "stderr",
     "output_type": "stream",
     "text": [
      "/apps/gent/RHEL8/zen3x-ib/software/scikit-learn/1.0.1-foss-2021b/lib/python3.9/site-packages/sklearn/metrics/_classification.py:1308: UndefinedMetricWarning: Precision and F-score are ill-defined and being set to 0.0 in labels with no predicted samples. Use `zero_division` parameter to control this behavior.\n",
      "  _warn_prf(average, modifier, msg_start, len(result))\n",
      "/apps/gent/RHEL8/zen3x-ib/software/scikit-learn/1.0.1-foss-2021b/lib/python3.9/site-packages/sklearn/metrics/_classification.py:1308: UndefinedMetricWarning: Precision and F-score are ill-defined and being set to 0.0 in labels with no predicted samples. Use `zero_division` parameter to control this behavior.\n",
      "  _warn_prf(average, modifier, msg_start, len(result))\n",
      "/apps/gent/RHEL8/zen3x-ib/software/scikit-learn/1.0.1-foss-2021b/lib/python3.9/site-packages/sklearn/metrics/_classification.py:1308: UndefinedMetricWarning: Precision and F-score are ill-defined and being set to 0.0 in labels with no predicted samples. Use `zero_division` parameter to control this behavior.\n",
      "  _warn_prf(average, modifier, msg_start, len(result))\n"
     ]
    },
    {
     "name": "stdout",
     "output_type": "stream",
     "text": [
      "                  precision    recall  f1-score   support\n",
      "\n",
      "            B1 B       0.94      0.09      0.16       508\n",
      "      CD14+ Mono       0.76      0.99      0.86      2269\n",
      "      CD16+ Mono       0.98      0.40      0.57       370\n",
      "CD4+ T activated       0.67      0.35      0.46      1167\n",
      "    CD4+ T naive       0.29      0.50      0.37       463\n",
      "          CD8+ T       0.84      0.85      0.84      5009\n",
      "    CD8+ T naive       0.00      0.00      0.00       366\n",
      "    Erythroblast       0.82      0.87      0.84       741\n",
      "        G/M prog       0.93      0.16      0.27       617\n",
      "             HSC       0.62      0.93      0.74       437\n",
      "             ILC       0.00      0.00      0.00       129\n",
      "      Lymph prog       0.90      0.65      0.75       573\n",
      "       MK/E prog       0.84      0.56      0.67       293\n",
      "              NK       0.54      0.96      0.69      1092\n",
      "   Naive CD20+ B       0.65      1.00      0.79      1322\n",
      "      Normoblast       1.00      0.55      0.71       237\n",
      "     Plasma cell       0.94      0.44      0.60        39\n",
      " Proerythroblast       0.84      0.92      0.88       938\n",
      "  Transitional B       0.81      0.78      0.79      1007\n",
      "            cDC2       0.85      0.06      0.12       269\n",
      "             pDC       0.97      0.97      0.97       490\n",
      "\n",
      "        accuracy                           0.74     18336\n",
      "       macro avg       0.72      0.57      0.58     18336\n",
      "    weighted avg       0.76      0.74      0.71     18336\n",
      "\n",
      "SVM_RNAseq_model\n",
      "                  precision    recall  f1-score   support\n",
      "\n",
      "            B1 B       0.99      0.61      0.75       508\n",
      "      CD14+ Mono       0.87      0.99      0.93      2269\n",
      "      CD16+ Mono       0.96      0.87      0.91       370\n",
      "CD4+ T activated       0.81      0.54      0.65      1167\n",
      "    CD4+ T naive       0.34      0.73      0.46       463\n",
      "          CD8+ T       0.93      0.96      0.94      5009\n",
      "    CD8+ T naive       0.02      0.01      0.01       366\n",
      "    Erythroblast       0.90      0.94      0.92       741\n",
      "        G/M prog       0.84      0.25      0.39       617\n",
      "             HSC       0.64      0.93      0.76       437\n",
      "             ILC       1.00      0.19      0.32       129\n",
      "      Lymph prog       0.93      0.75      0.83       573\n",
      "       MK/E prog       0.75      0.71      0.73       293\n",
      "              NK       0.88      0.95      0.91      1092\n",
      "   Naive CD20+ B       0.78      0.99      0.88      1322\n",
      "      Normoblast       0.97      0.95      0.96       237\n",
      "     Plasma cell       0.92      0.92      0.92        39\n",
      " Proerythroblast       0.93      0.85      0.89       938\n",
      "  Transitional B       0.86      0.83      0.84      1007\n",
      "            cDC2       0.88      0.77      0.82       269\n",
      "             pDC       0.96      1.00      0.98       490\n",
      "\n",
      "        accuracy                           0.85     18336\n",
      "       macro avg       0.82      0.75      0.75     18336\n",
      "    weighted avg       0.85      0.85      0.83     18336\n",
      "\n",
      "lsvm_multiome_model\n",
      "                  precision    recall  f1-score   support\n",
      "\n",
      "            B1 B       0.97      0.69      0.81       508\n",
      "      CD14+ Mono       0.89      0.98      0.93      2269\n",
      "      CD16+ Mono       0.95      0.89      0.92       370\n",
      "CD4+ T activated       0.67      0.48      0.56      1167\n",
      "    CD4+ T naive       0.27      0.57      0.36       463\n",
      "          CD8+ T       0.92      0.92      0.92      5009\n",
      "    CD8+ T naive       0.23      0.15      0.18       366\n",
      "    Erythroblast       0.92      0.91      0.92       741\n",
      "        G/M prog       0.82      0.27      0.40       617\n",
      "             HSC       0.63      0.94      0.76       437\n",
      "             ILC       0.67      0.25      0.36       129\n",
      "      Lymph prog       0.95      0.76      0.84       573\n",
      "       MK/E prog       0.65      0.75      0.70       293\n",
      "              NK       0.87      0.93      0.90      1092\n",
      "   Naive CD20+ B       0.81      0.99      0.89      1322\n",
      "      Normoblast       0.95      0.96      0.96       237\n",
      "     Plasma cell       0.92      0.92      0.92        39\n",
      " Proerythroblast       0.91      0.82      0.86       938\n",
      "  Transitional B       0.87      0.85      0.86      1007\n",
      "            cDC2       0.88      0.81      0.84       269\n",
      "             pDC       0.97      1.00      0.98       490\n",
      "\n",
      "        accuracy                           0.83     18336\n",
      "       macro avg       0.80      0.75      0.76     18336\n",
      "    weighted avg       0.84      0.83      0.83     18336\n",
      "\n",
      "lsvm_multiome_model_balanced_C\n",
      "                  precision    recall  f1-score   support\n",
      "\n",
      "            B1 B       0.97      0.69      0.81       508\n",
      "      CD14+ Mono       0.89      0.98      0.93      2269\n",
      "      CD16+ Mono       0.95      0.89      0.92       370\n",
      "CD4+ T activated       0.66      0.48      0.56      1167\n",
      "    CD4+ T naive       0.27      0.57      0.36       463\n",
      "          CD8+ T       0.92      0.92      0.92      5009\n",
      "    CD8+ T naive       0.23      0.15      0.18       366\n",
      "    Erythroblast       0.92      0.91      0.92       741\n",
      "        G/M prog       0.82      0.27      0.40       617\n",
      "             HSC       0.63      0.94      0.76       437\n",
      "             ILC       0.67      0.25      0.36       129\n",
      "      Lymph prog       0.95      0.76      0.84       573\n",
      "       MK/E prog       0.65      0.75      0.70       293\n",
      "              NK       0.87      0.93      0.90      1092\n",
      "   Naive CD20+ B       0.81      0.99      0.89      1322\n",
      "      Normoblast       0.95      0.96      0.96       237\n",
      "     Plasma cell       0.92      0.92      0.92        39\n",
      " Proerythroblast       0.91      0.82      0.86       938\n",
      "  Transitional B       0.87      0.85      0.86      1007\n",
      "            cDC2       0.88      0.81      0.84       269\n",
      "             pDC       0.97      1.00      0.98       490\n",
      "\n",
      "        accuracy                           0.83     18336\n",
      "       macro avg       0.80      0.75      0.76     18336\n",
      "    weighted avg       0.84      0.83      0.83     18336\n",
      "\n",
      "lsvm_normalized_multiome_model\n",
      "                  precision    recall  f1-score   support\n",
      "\n",
      "            B1 B       0.99      0.63      0.77       508\n",
      "      CD14+ Mono       0.87      0.99      0.92      2269\n",
      "      CD16+ Mono       0.96      0.88      0.92       370\n",
      "CD4+ T activated       0.77      0.49      0.60      1167\n",
      "    CD4+ T naive       0.30      0.67      0.41       463\n",
      "          CD8+ T       0.93      0.95      0.94      5009\n",
      "    CD8+ T naive       0.05      0.02      0.03       366\n",
      "    Erythroblast       0.91      0.94      0.92       741\n",
      "        G/M prog       0.81      0.22      0.35       617\n",
      "             HSC       0.63      0.93      0.75       437\n",
      "             ILC       0.96      0.18      0.30       129\n",
      "      Lymph prog       0.94      0.74      0.83       573\n",
      "       MK/E prog       0.72      0.71      0.71       293\n",
      "              NK       0.89      0.95      0.92      1092\n",
      "   Naive CD20+ B       0.79      0.99      0.88      1322\n",
      "      Normoblast       0.97      0.96      0.97       237\n",
      "     Plasma cell       0.92      0.92      0.92        39\n",
      " Proerythroblast       0.93      0.85      0.89       938\n",
      "  Transitional B       0.86      0.83      0.85      1007\n",
      "            cDC2       0.86      0.77      0.81       269\n",
      "             pDC       0.97      1.00      0.98       490\n",
      "\n",
      "        accuracy                           0.84     18336\n",
      "       macro avg       0.81      0.74      0.75     18336\n",
      "    weighted avg       0.85      0.84      0.83     18336\n",
      "\n",
      "lsvm_normalized_multiome_model_balanced_C\n",
      "                  precision    recall  f1-score   support\n",
      "\n",
      "            B1 B       0.99      0.63      0.77       508\n",
      "      CD14+ Mono       0.87      0.99      0.92      2269\n",
      "      CD16+ Mono       0.96      0.88      0.92       370\n",
      "CD4+ T activated       0.77      0.49      0.60      1167\n",
      "    CD4+ T naive       0.30      0.67      0.41       463\n",
      "          CD8+ T       0.93      0.95      0.94      5009\n",
      "    CD8+ T naive       0.05      0.02      0.03       366\n",
      "    Erythroblast       0.91      0.94      0.92       741\n",
      "        G/M prog       0.81      0.23      0.35       617\n",
      "             HSC       0.63      0.93      0.75       437\n",
      "             ILC       0.96      0.18      0.30       129\n",
      "      Lymph prog       0.94      0.75      0.83       573\n",
      "       MK/E prog       0.72      0.71      0.71       293\n",
      "              NK       0.89      0.95      0.92      1092\n",
      "   Naive CD20+ B       0.79      0.99      0.88      1322\n",
      "      Normoblast       0.97      0.96      0.97       237\n",
      "     Plasma cell       0.92      0.92      0.92        39\n",
      " Proerythroblast       0.93      0.85      0.89       938\n",
      "  Transitional B       0.86      0.83      0.85      1007\n",
      "            cDC2       0.86      0.77      0.81       269\n",
      "             pDC       0.97      1.00      0.98       490\n",
      "\n",
      "        accuracy                           0.84     18336\n",
      "       macro avg       0.81      0.74      0.75     18336\n",
      "    weighted avg       0.85      0.84      0.83     18336\n",
      "\n",
      "MLP_bmmc_pred\n"
     ]
    },
    {
     "name": "stdout",
     "output_type": "stream",
     "text": [
      "                  precision    recall  f1-score   support\n",
      "\n",
      "            B1 B       0.95      0.69      0.80       508\n",
      "      CD14+ Mono       0.92      0.95      0.93      2269\n",
      "      CD16+ Mono       0.82      0.92      0.87       370\n",
      "CD4+ T activated       0.68      0.71      0.70      1167\n",
      "    CD4+ T naive       0.39      0.46      0.42       463\n",
      "          CD8+ T       0.91      0.95      0.93      5009\n",
      "    CD8+ T naive       0.34      0.21      0.26       366\n",
      "    Erythroblast       0.89      0.89      0.89       741\n",
      "        G/M prog       0.70      0.46      0.55       617\n",
      "             HSC       0.67      0.84      0.74       437\n",
      "             ILC       0.67      0.09      0.16       129\n",
      "      Lymph prog       0.93      0.75      0.83       573\n",
      "       MK/E prog       0.77      0.72      0.74       293\n",
      "              NK       0.89      0.90      0.90      1092\n",
      "   Naive CD20+ B       0.81      0.98      0.89      1322\n",
      "      Normoblast       0.98      0.81      0.89       237\n",
      "     Plasma cell       0.94      0.85      0.89        39\n",
      " Proerythroblast       0.88      0.89      0.88       938\n",
      "  Transitional B       0.86      0.84      0.85      1007\n",
      "            cDC2       0.85      0.72      0.78       269\n",
      "             pDC       0.96      0.99      0.98       490\n",
      "\n",
      "        accuracy                           0.85     18336\n",
      "       macro avg       0.80      0.74      0.76     18336\n",
      "    weighted avg       0.84      0.85      0.84     18336\n",
      "\n"
     ]
    }
   ],
   "source": [
    "from sklearn.metrics import f1_score, classification_report\n",
    "\n",
    "for n, p in predictions_models_test.items():\n",
    "    print(n)\n",
    "    print(classification_report(Y_test, p))\n",
    "#[[n, f1_score(Y_test, p)] for n, p in predictions_models_test.items()]"
   ]
  },
  {
   "cell_type": "code",
   "execution_count": null,
   "id": "692e8630",
   "metadata": {},
   "outputs": [],
   "source": []
  },
  {
   "cell_type": "code",
   "execution_count": null,
   "id": "2212f7e4",
   "metadata": {},
   "outputs": [],
   "source": []
  }
 ],
 "metadata": {
  "kernelspec": {
   "display_name": "Python 3 (ipykernel)",
   "language": "python",
   "name": "python3"
  },
  "language_info": {
   "codemirror_mode": {
    "name": "ipython",
    "version": 3
   },
   "file_extension": ".py",
   "mimetype": "text/x-python",
   "name": "python",
   "nbconvert_exporter": "python",
   "pygments_lexer": "ipython3",
   "version": "3.9.6"
  }
 },
 "nbformat": 4,
 "nbformat_minor": 5
}
