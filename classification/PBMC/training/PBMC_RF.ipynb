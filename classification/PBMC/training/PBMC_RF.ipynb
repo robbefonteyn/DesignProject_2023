{
 "cells": [
  {
   "cell_type": "code",
   "execution_count": 3,
   "id": "25354d92",
   "metadata": {},
   "outputs": [],
   "source": [
    "import numpy as np\n",
    "import scanpy as sp\n",
    "import pandas as pd\n",
    "import pickle\n",
    "import matplotlib\n",
    "import matplotlib.pyplot as plt\n",
    "plt.style.use('ggplot')\n",
    "%matplotlib inline\n",
    "\n",
    "import sklearn as sk\n",
    "from sklearn.ensemble import RandomForestClassifier\n",
    "from sklearn.model_selection import StratifiedKFold, GridSearchCV\n",
    "from sklearn.model_selection import train_test_split\n",
    "\n",
    "seed = 2023 # DO NOT CHANGE!"
   ]
  },
  {
   "cell_type": "code",
   "execution_count": 4,
   "id": "17ea84c9",
   "metadata": {},
   "outputs": [
    {
     "name": "stdout",
     "output_type": "stream",
     "text": [
      "sklearn version: 1.0.1\n",
      "numpy version: 1.21.3\n",
      "pandas version: 1.3.4\n",
      "matplotlib version: 3.4.3\n",
      "scanpy version: 1.9.1\n"
     ]
    }
   ],
   "source": [
    "print(f\"sklearn version: {sk.__version__}\")\n",
    "print(f\"numpy version: {np.__version__}\")\n",
    "print(f\"pandas version: {pd.__version__}\")\n",
    "print(f\"matplotlib version: {matplotlib.__version__}\")\n",
    "print(f\"scanpy version: {sp.__version__}\")"
   ]
  },
  {
   "cell_type": "markdown",
   "id": "30e7bcd7",
   "metadata": {},
   "source": [
    "# Load Data"
   ]
  },
  {
   "cell_type": "code",
   "execution_count": 5,
   "id": "ab973222",
   "metadata": {},
   "outputs": [],
   "source": [
    "PBMC = sp.read_h5ad(\"../pbmc_multiome.h5ad\")"
   ]
  },
  {
   "cell_type": "code",
   "execution_count": 6,
   "id": "4c189c71",
   "metadata": {},
   "outputs": [
    {
     "name": "stdout",
     "output_type": "stream",
     "text": [
      "The data has 9641 observations and 19607 features.\n"
     ]
    }
   ],
   "source": [
    "print(f\"The data has {PBMC.n_obs} observations and {PBMC.n_vars} features.\")"
   ]
  },
  {
   "cell_type": "code",
   "execution_count": 7,
   "id": "48421fe7",
   "metadata": {},
   "outputs": [
    {
     "data": {
      "text/plain": [
       "AnnData object with n_obs × n_vars = 9641 × 19607\n",
       "    obs: 'orig.ident', 'nCount_RNA', 'nFeature_RNA', 'nCount_ATAC', 'nFeature_ATAC', 'nucleosome_signal', 'nucleosome_percentile', 'TSS.enrichment', 'TSS.percentile', 'RNA_snn_res.0.5', 'seurat_clusters', 'predicted.id', 'prediction.score.CD14.Mono', 'prediction.score.CD4.TCM', 'prediction.score.CD8.Naive', 'prediction.score.NK', 'prediction.score.CD8.TEM', 'prediction.score.CD16.Mono', 'prediction.score.B.intermediate', 'prediction.score.CD4.Naive', 'prediction.score.CD4.CTL', 'prediction.score.B.naive', 'prediction.score.MAIT', 'prediction.score.gdT', 'prediction.score.CD8.TCM', 'prediction.score.dnT', 'prediction.score.B.memory', 'prediction.score.Doublet', 'prediction.score.pDC', 'prediction.score.CD8.Proliferating', 'prediction.score.Treg', 'prediction.score.Plasmablast', 'prediction.score.CD4.TEM', 'prediction.score.cDC2', 'prediction.score.NK.Proliferating', 'prediction.score.ASDC', 'prediction.score.HSPC', 'prediction.score.Platelet', 'prediction.score.NK_CD56bright', 'prediction.score.CD4.Proliferating', 'prediction.score.Eryth', 'prediction.score.cDC1', 'prediction.score.ILC', 'prediction.score.max', 'nCount_ACTIVITY', 'nFeature_ACTIVITY'\n",
       "    var: 'features'\n",
       "    obsm: 'X_umap.atac', 'X_umap.rna'"
      ]
     },
     "execution_count": 7,
     "metadata": {},
     "output_type": "execute_result"
    }
   ],
   "source": [
    "PBMC"
   ]
  },
  {
   "cell_type": "code",
   "execution_count": 8,
   "id": "20141bb8",
   "metadata": {},
   "outputs": [
    {
     "data": {
      "text/plain": [
       "<9641x19607 sparse matrix of type '<class 'numpy.float64'>'\n",
       "\twith 73296936 stored elements in Compressed Sparse Row format>"
      ]
     },
     "execution_count": 8,
     "metadata": {},
     "output_type": "execute_result"
    }
   ],
   "source": [
    "PBMC.X"
   ]
  },
  {
   "cell_type": "markdown",
   "id": "fe6e24d1",
   "metadata": {},
   "source": [
    "# Data Filtering + Train/Test Split"
   ]
  },
  {
   "cell_type": "code",
   "execution_count": 9,
   "id": "cb985500",
   "metadata": {},
   "outputs": [
    {
     "name": "stdout",
     "output_type": "stream",
     "text": [
      "['ASDC' 'CD4 Proliferating' 'CD8 Proliferating' 'CD8 TCM' 'HSPC' 'ILC'\n",
      " 'NK Proliferating' 'NK_CD56bright' 'Plasmablast' 'cDC1' 'dnT' 'gdT']\n",
      "(9510,)\n"
     ]
    }
   ],
   "source": [
    "cutoff = 0.001\n",
    "\n",
    "cell_types, type_numbers = np.unique(PBMC.obs['predicted.id'], return_counts=True)\n",
    "bad_types = cell_types[type_numbers / len(PBMC.obs['predicted.id'])<cutoff]\n",
    "print(bad_types)\n",
    "\n",
    "bad_types_mask = np.invert(np.isin(PBMC.obs['predicted.id'], bad_types))\n",
    "X = PBMC.X[bad_types_mask]\n",
    "Y = PBMC.obs['predicted.id'][bad_types_mask]\n",
    "\n",
    "print(Y.shape)"
   ]
  },
  {
   "cell_type": "code",
   "execution_count": 10,
   "id": "c85a29af",
   "metadata": {},
   "outputs": [
    {
     "name": "stdout",
     "output_type": "stream",
     "text": [
      "9510 number of cells, with 15 total cell types\n"
     ]
    },
    {
     "data": {
      "image/png": "[encoded data removed]",
      "text/plain": [
       "<Figure size 720x360 with 1 Axes>"
      ]
     },
     "metadata": {
      "needs_background": "light"
     },
     "output_type": "display_data"
    }
   ],
   "source": [
    "cell_types, type_numbers = np.unique(Y, return_counts=True)\n",
    "fig = plt.figure(figsize=(10, 5))\n",
    "ax = fig.add_axes([0,0,1,1])\n",
    "print(f\"{np.sum(type_numbers)} number of cells, with {len(cell_types)} total cell types\")\n",
    "ax.bar(list(map(str, cell_types)), type_numbers)\n",
    "plt.xticks(rotation=30, ha='right')\n",
    "plt.xlabel(\"Cell type\")\n",
    "plt.ylabel(\"#samples\")\n",
    "plt.show()"
   ]
  },
  {
   "cell_type": "code",
   "execution_count": 11,
   "id": "7b1cb146",
   "metadata": {},
   "outputs": [
    {
     "name": "stdout",
     "output_type": "stream",
     "text": [
      "7132 train samples\n",
      "2378 test samples\n",
      "74.99% of samples used for training\n"
     ]
    }
   ],
   "source": [
    "X_train, X_test, Y_train, Y_test = train_test_split(X, Y, test_size=0.25, random_state=seed)\n",
    "\n",
    "n_train = X_train.shape[0]\n",
    "n_test = X_test.shape[0]\n",
    "print(f\"{n_train} train samples\\n{n_test} test samples\\n{n_train/(n_train+n_test)*100:.2f}% of samples used for training\")"
   ]
  },
  {
   "cell_type": "markdown",
   "id": "6db8ffac",
   "metadata": {},
   "source": [
    "# Model training"
   ]
  },
  {
   "cell_type": "code",
   "execution_count": null,
   "id": "9e03023c",
   "metadata": {},
   "outputs": [
    {
     "name": "stdout",
     "output_type": "stream",
     "text": [
      "Fitting 5 folds for each of 3 candidates, totalling 15 fits\n"
     ]
    }
   ],
   "source": [
    "n_folds = 5 # change?\n",
    "\n",
    "cv = StratifiedKFold(n_splits=n_folds, shuffle=True, random_state = seed)\n",
    "\n",
    "param_grid = {\n",
    "    'min_samples_split': [2,10,20]\n",
    "}\n",
    "\n",
    "rf = RandomForestClassifier()\n",
    "gridsearch = GridSearchCV(rf,param_grid, n_jobs=-1, cv=cv, verbose=5, \n",
    "                          return_train_score=True)\n",
    "\n",
    "gridsearch.fit(X_train, Y_train)"
   ]
  },
  {
   "cell_type": "code",
   "execution_count": null,
   "id": "e98f7b73",
   "metadata": {},
   "outputs": [],
   "source": [
    "results = gridsearch.cv_results_\n",
    "train_score = results['mean_train_score'][gridsearch.best_index_]\n",
    "validation_score = results['mean_test_score'][gridsearch.best_index_]\n",
    "\n",
    "print(f'Average training accuracy across folds: {train_score:.3}')\n",
    "print(f'Average validation accuracy across folds: {validation_score:.3}')\n",
    "\n",
    "print(f'Best hyperparams: {gridsearch.best_params_}')"
   ]
  },
  {
   "cell_type": "code",
   "execution_count": null,
   "id": "790fdeb6",
   "metadata": {},
   "outputs": [],
   "source": [
    "# save best model\n",
    "with open('PBMC_RF.pkl','wb') as f:\n",
    "    pickle.dump(gridsearch.best_estimator_,f)"
   ]
  }
 ],
 "metadata": {
  "kernelspec": {
   "display_name": "Python 3 (ipykernel)",
   "language": "python",
   "name": "python3"
  },
  "language_info": {
   "codemirror_mode": {
    "name": "ipython",
    "version": 3
   },
   "file_extension": ".py",
   "mimetype": "text/x-python",
   "name": "python",
   "nbconvert_exporter": "python",
   "pygments_lexer": "ipython3",
   "version": "3.9.6"
  }
 },
 "nbformat": 4,
 "nbformat_minor": 5
}
